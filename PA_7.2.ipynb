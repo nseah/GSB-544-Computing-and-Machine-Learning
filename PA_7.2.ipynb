{
 "cells": [
  {
   "cell_type": "raw",
   "id": "86c9ee50",
   "metadata": {},
   "source": [
    "---\n",
    "self-contained: true\n",
    "title: 'PA 7.2'\n",
    "author: 'Nicholas Seah'\n",
    "format:\n",
    "    html:\n",
    "        theme: journal\n",
    "---"
   ]
  },
  {
   "cell_type": "code",
   "execution_count": 1,
   "id": "0cfac1a3",
   "metadata": {},
   "outputs": [],
   "source": [
    "import pandas as pd\n",
    "import numpy as np\n",
    "from sklearn.pipeline import Pipeline\n",
    "from sklearn.compose import make_column_selector, ColumnTransformer\n",
    "from sklearn.preprocessing import StandardScaler, OneHotEncoder, PolynomialFeatures\n",
    "from sklearn.linear_model import LinearRegression, Ridge, Lasso, ElasticNet \n",
    "from sklearn.model_selection import train_test_split, cross_val_score\n",
    "from sklearn.metrics import r2_score"
   ]
  },
  {
   "cell_type": "code",
   "execution_count": 2,
   "id": "18b69ba3",
   "metadata": {},
   "outputs": [],
   "source": [
    "# Read the data\n",
    "ames = pd.read_csv(\"/Users/nicholaseah/Downloads/AmesHousing.csv\")\n",
    "\n",
    "# Get rid of columns with mostly NaN values\n",
    "good_cols = ames.isna().sum() < 100\n",
    "ames = ames.loc[:,good_cols]\n",
    "\n",
    "# Drop other NAs\n",
    "ames = ames.dropna()"
   ]
  },
  {
   "cell_type": "markdown",
   "id": "e00f7645",
   "metadata": {},
   "source": [
    "# Practice Activity 1"
   ]
  },
  {
   "cell_type": "code",
   "execution_count": 3,
   "id": "266b8e29",
   "metadata": {},
   "outputs": [
    {
     "data": {
      "text/plain": [
       "array([-4.39209773e+13, -4.39209773e+13, -4.39209773e+13, -4.39209773e+13,\n",
       "       -4.39209773e+13, -4.39209773e+13,  1.25351924e+17,  1.25351924e+17,\n",
       "        1.45951236e+17,  1.45951236e+17,  1.45951236e+17,  1.45951236e+17,\n",
       "       -1.50298409e+17, -1.50298409e+17, -1.50298409e+17, -1.50298409e+17,\n",
       "       -1.66599326e+16, -1.66599326e+16, -1.66599326e+16, -5.45591682e+16,\n",
       "       -5.45591682e+16, -5.45591682e+16, -5.45591682e+16, -5.45591682e+16,\n",
       "        1.55187350e+17,  1.55187350e+17,  1.55187350e+17, -3.79737514e+16,\n",
       "       -3.79737514e+16, -3.79737514e+16, -3.79737514e+16, -3.79737514e+16,\n",
       "       -3.79737514e+16, -3.79737514e+16, -3.79737514e+16, -3.79737514e+16,\n",
       "       -3.79737514e+16, -3.79737514e+16, -3.79737514e+16, -3.79737514e+16,\n",
       "       -3.79737514e+16, -3.79737514e+16, -3.79737514e+16, -3.79737514e+16,\n",
       "       -3.79737514e+16, -3.79737514e+16, -3.79737514e+16, -3.79737514e+16,\n",
       "       -3.79737514e+16, -3.79737514e+16, -3.79737514e+16, -3.79737514e+16,\n",
       "       -3.79737514e+16, -3.79737514e+16, -3.79737514e+16,  4.94117364e+15,\n",
       "        4.94117364e+15,  4.94117364e+15,  4.94117364e+15,  4.94117364e+15,\n",
       "        4.94117364e+15,  4.94117364e+15,  4.94117364e+15,  4.94117364e+15,\n",
       "        2.35933250e+15,  2.35933250e+15,  2.35933250e+15,  2.35933250e+15,\n",
       "        2.35933250e+15,  2.35933250e+15,  2.35933250e+15,  2.35933250e+15,\n",
       "        7.04947415e+16,  7.04947415e+16,  7.04947415e+16,  7.04947415e+16,\n",
       "        7.04947415e+16,  2.03614553e+16,  2.03614553e+16,  2.03614553e+16,\n",
       "        2.03614553e+16,  2.03614553e+16,  2.03614553e+16,  2.03614553e+16,\n",
       "        2.03614553e+16,  1.74316749e+16,  1.74316749e+16,  1.74316749e+16,\n",
       "        1.74316749e+16,  1.74316749e+16,  1.74316749e+16,  1.01868958e+15,\n",
       "        1.01868958e+15,  1.01868958e+15,  1.01868958e+15,  1.01868958e+15,\n",
       "        1.01868958e+15,  1.01868958e+15,  1.01868958e+15,  7.26746048e+15,\n",
       "        7.26746048e+15,  7.26746048e+15,  7.26746048e+15, -9.51213775e+14,\n",
       "        7.26746048e+15,  7.26746048e+15,  7.26746048e+15,  7.26746048e+15,\n",
       "        7.26746048e+15,  3.31873101e+15,  7.26746048e+15,  7.26746048e+15,\n",
       "        7.26746048e+15,  7.26746048e+15,  7.26746048e+15, -5.20330779e+14,\n",
       "       -5.20330779e+14, -5.20330779e+14, -5.20330779e+14,  7.69834348e+15,\n",
       "       -5.20330779e+14, -5.20330779e+14, -5.20330779e+14, -5.20330779e+14,\n",
       "       -5.20330779e+14, -5.20330779e+14,  3.42839869e+15, -5.20330779e+14,\n",
       "       -5.20330779e+14, -5.20330779e+14, -5.20330779e+14, -5.20330779e+14,\n",
       "       -1.36207236e+16, -1.36207236e+16, -1.36207236e+16, -1.36207236e+16,\n",
       "       -1.36207236e+16,  4.96288658e+16,  4.96288658e+16,  4.96288658e+16,\n",
       "        4.96288658e+16,  1.26247652e+15,  1.26247652e+15,  1.26247652e+15,\n",
       "        1.26247652e+15,  1.26247652e+15, -3.74568634e+16, -3.74568634e+16,\n",
       "       -3.74568634e+16, -3.74568634e+16, -3.74568634e+16,  6.23508634e+16,\n",
       "        6.23508634e+16,  6.23508634e+16,  6.23508634e+16,  6.23508634e+16,\n",
       "       -3.50195386e+15, -3.50195386e+15, -3.50195386e+15, -3.50195386e+15,\n",
       "       -3.50195386e+15,  3.97188074e+16,  3.97188074e+16,  3.97188074e+16,\n",
       "        3.97188074e+16,  5.80157729e+16,  5.80157729e+16,  5.80157729e+16,\n",
       "        5.80157729e+16,  5.80157729e+16,  5.80157729e+16, -9.89250682e+15,\n",
       "       -9.89250682e+15, -9.89250682e+15, -9.89250682e+15, -9.89250682e+15,\n",
       "       -9.89250682e+15, -7.38096520e+15, -7.38096520e+15, -7.38096520e+15,\n",
       "       -7.38096520e+15,  2.39953636e+16,  2.39953636e+16,  2.39953636e+16,\n",
       "        2.39953636e+16,  2.39953636e+16, -2.58237668e+16, -2.58237668e+16,\n",
       "       -1.47896217e+16, -1.47896217e+16, -1.47896217e+16, -1.47896217e+16,\n",
       "       -1.47896217e+16,  1.88344292e+15,  1.88344292e+15,  1.88344292e+15,\n",
       "        1.88344292e+15,  1.88344292e+15,  5.99095891e+15,  5.99095891e+15,\n",
       "        5.99095891e+15,  5.99095891e+15,  5.99095891e+15,  5.99095891e+15,\n",
       "        5.99095891e+15,  5.99095891e+15,  1.17155151e+17,  1.17155151e+17,\n",
       "        1.17155151e+17,  4.09815851e+13,  4.09815851e+13,  4.09815852e+13,\n",
       "        4.09815851e+13,  4.09815851e+13,  4.09815851e+13,  4.09815851e+13,\n",
       "        4.09815851e+13,  4.09815851e+13,  4.09815851e+13,  4.67952011e+15,\n",
       "        4.67952011e+15,  4.67952011e+15,  4.67952011e+15,  4.67952011e+15,\n",
       "        4.67952011e+15, -3.70400000e+03,  4.92800000e+03,  1.00720000e+04,\n",
       "        6.27200000e+03,  8.82800000e+03,  1.74400000e+03,  3.30200000e+03,\n",
       "       -1.34528368e+17, -5.07708048e+16, -1.28364124e+17,  1.20466804e+17,\n",
       "        8.48868312e+16,  9.34323993e+16,  1.02529965e+16, -1.10073927e+17,\n",
       "        8.40000000e+02, -9.52000000e+02,  2.22400000e+03,  1.28000000e+03,\n",
       "       -2.01600000e+03, -2.17600000e+03, -9.00000000e+01,  2.22400000e+03,\n",
       "        2.03200000e+03,  3.05200000e+03,  7.76000000e+02, -6.96000000e+02,\n",
       "        3.20000000e+02,  1.60000000e+01,  2.72800000e+03,  2.73600000e+03,\n",
       "       -5.21600000e+03, -7.04000000e+02, -7.04000000e+02])"
      ]
     },
     "execution_count": 3,
     "metadata": {},
     "output_type": "execute_result"
    }
   ],
   "source": [
    "# Linear Regression\n",
    "X = ames.drop([\"SalePrice\", \"Order\", \"PID\"], axis = 1) # drop bc identification variables/response variable\n",
    "y = ames[\"SalePrice\"]\n",
    "\n",
    "\n",
    "ct = ColumnTransformer(\n",
    "  [\n",
    "    (\"dummify\", \n",
    "    OneHotEncoder(sparse_output = False, handle_unknown='ignore'), # do not predict new/unknown categories\n",
    "    make_column_selector(dtype_include=object)),\n",
    "    (\"standardize\", \n",
    "    StandardScaler(), \n",
    "    make_column_selector(dtype_include=np.number))\n",
    "  ],\n",
    "  remainder = \"passthrough\"\n",
    ")\n",
    "\n",
    "lr_pipeline_1 = Pipeline(\n",
    "  [(\"preprocessing\", ct),\n",
    "  (\"linear_regression\", LinearRegression())]\n",
    ")\n",
    "\n",
    "lr_fitted = lr_pipeline_1.fit(X,y)\n",
    "lr_pipeline_1.named_steps['linear_regression'].coef_"
   ]
  },
  {
   "cell_type": "code",
   "execution_count": 4,
   "id": "81d12495",
   "metadata": {},
   "outputs": [
    {
     "data": {
      "text/plain": [
       "array([-3.25778604e+20, -1.11398133e+20, -4.65615421e+19, -5.85460925e+21,\n",
       "       -1.09610348e+19])"
      ]
     },
     "execution_count": 4,
     "metadata": {},
     "output_type": "execute_result"
    }
   ],
   "source": [
    "cross_val_score(lr_pipeline_1, X, y, cv = 5, scoring = 'r2')"
   ]
  },
  {
   "cell_type": "code",
   "execution_count": 5,
   "id": "a68c5d71",
   "metadata": {},
   "outputs": [
    {
     "data": {
      "text/plain": [
       "array([-5.74005537e+03,  1.51192889e+03, -5.80970449e+03,  7.67632758e+03,\n",
       "        3.21539362e+03, -8.53890229e+02, -8.79552355e+03,  8.79552355e+03,\n",
       "        1.45341301e+03,  7.23134607e+03, -1.12842650e+04,  2.59950592e+03,\n",
       "       -8.85774273e+03,  8.83533094e+03, -3.76931033e+03,  3.79172212e+03,\n",
       "        9.87222450e+03, -9.85566573e+03, -1.65587708e+01,  5.24987685e+02,\n",
       "        8.03779413e+03, -5.89576613e+03, -3.29412701e+03,  6.27111318e+02,\n",
       "        1.71419540e+03,  8.13018428e+03, -9.84437968e+03, -3.92011921e+02,\n",
       "        3.53090791e+03,  8.22359331e+03, -6.10737768e+03, -9.15175539e+03,\n",
       "       -1.11524036e+04,  5.86971416e+03, -2.08430124e+04, -1.35674285e+04,\n",
       "        4.54543167e+03,  6.73814593e+04, -1.25061940e+04, -2.54568140e+03,\n",
       "        5.30277190e+02, -1.51451826e+04, -1.55880370e+04,  8.63701599e+03,\n",
       "       -1.76666242e+04,  2.78073630e+04,  2.19158891e+04, -1.62260798e+04,\n",
       "       -1.33304594e+04, -1.12074880e+04, -1.21292346e+04,  1.01105445e+04,\n",
       "        3.67461043e+04, -8.00539985e+03, -9.73393021e+03, -2.83409157e+03,\n",
       "       -3.05518705e+03,  6.61409509e+03,  7.83290872e+03,  1.14919530e+04,\n",
       "       -6.69709434e+03,  9.43483974e+02, -5.65502036e+03, -8.64104744e+03,\n",
       "        2.94987642e+03, -2.24717848e+03,  7.24932334e+01,  4.83125797e+04,\n",
       "       -7.76520519e+04,  2.12226719e+04,  4.33006938e+03,  3.01153987e+03,\n",
       "        9.29883234e+03,  1.13270813e+04,  1.15748826e+03, -1.43099795e+04,\n",
       "       -7.47342237e+03, -2.06204209e+03,  6.99898319e+03,  7.67841194e+03,\n",
       "       -1.13042610e+04, -2.36248315e+03, -6.74342938e+03,  7.42581219e+03,\n",
       "        3.69008259e+02, -7.57433659e+03,  2.17664506e+03,  2.44547205e+03,\n",
       "        4.16252075e+03, -6.83215201e+03,  5.62185074e+03, -2.33514553e+05,\n",
       "        2.75680048e+04,  3.33674616e+04,  2.88269106e+04,  1.48103395e+04,\n",
       "        2.59347904e+04,  1.98502265e+04,  8.31568197e+04, -4.68168534e+02,\n",
       "        4.00013293e+03,  8.26972151e+03,  1.77150916e+04, -3.39543110e+03,\n",
       "       -3.46210582e+03, -6.23663372e+03, -1.69604748e+04,  2.72950236e+02,\n",
       "       -2.12553593e+03,  2.54764558e+04, -3.69426931e+03, -5.69619087e+03,\n",
       "       -9.09002214e+03, -1.68086367e+03, -2.92465617e+03, -4.48731905e+03,\n",
       "        9.63277999e+03, -3.27570523e+03, -8.85716714e+03, -3.39543110e+03,\n",
       "       -4.01339315e+02,  6.08495849e+02,  9.21183626e+03, -1.30263102e+03,\n",
       "       -5.45989249e+03, -2.48501179e+03,  2.54764558e+04, -1.29218648e+04,\n",
       "       -3.16676899e+03,  6.32355460e+03, -2.17735431e+03, -3.32263729e+03,\n",
       "       -2.46183991e+02,  6.05454592e+03, -2.63394926e+04,  1.01018357e+04,\n",
       "        1.04292950e+04,  1.55483869e+04, -6.18193274e+02, -6.14255398e+03,\n",
       "       -8.78763961e+03, -1.50886073e+03, -2.85254642e+03,  2.34250806e+03,\n",
       "       -8.34262325e+02,  2.85316142e+03, -2.12127975e+03, -8.53362458e+02,\n",
       "        1.52973051e+03,  9.83854120e+03, -8.39362950e+03,  1.42482839e+04,\n",
       "       -1.80639376e+03, -5.13517382e+03, -3.36052020e+03, -3.94619611e+03,\n",
       "       -4.10766713e+03,  2.93152207e+02, -1.91115069e+03,  6.25802907e+03,\n",
       "       -5.32363454e+02,  1.26866467e+03,  1.16268562e+04, -6.45884235e+03,\n",
       "       -6.43667856e+03,  1.10341948e+03,  2.23236753e+02,  4.43667310e+03,\n",
       "       -4.11926398e+03, -1.80375510e+03,  1.59689744e+02,  5.13869859e+03,\n",
       "       -3.70235807e+03,  7.25438305e+03, -5.48134564e+03, -3.93039926e+03,\n",
       "        7.21021330e+02,  6.95504338e+03,  7.15435895e+03,  4.77741386e+03,\n",
       "       -1.88868162e+04,  4.37264760e+03, -5.07017952e+02,  2.50025836e+03,\n",
       "       -7.46754625e+03,  1.10165823e+03,  1.46992074e+03, -1.46992074e+03,\n",
       "       -5.27886177e+02, -2.34451744e+03,  1.20058493e+02,  3.38510603e+03,\n",
       "       -6.32760911e+02,  1.54630254e+04, -7.63562020e+03, -7.20692781e+03,\n",
       "        7.34715716e+03, -7.96763458e+03,  5.04993017e+02, -1.02451139e+04,\n",
       "        5.18867809e+03,  4.81390048e+03,  9.31883246e+02, -2.32089215e+03,\n",
       "       -1.20447009e+04,  1.31712521e+04,  3.81149158e+02, -9.69267328e+02,\n",
       "        5.88118170e+02, -7.95894142e+03, -7.00489546e+02,  2.10206118e+04,\n",
       "        2.80329222e+03, -5.43022330e+03, -4.10507352e+03,  3.98728145e+03,\n",
       "       -4.51717647e+02, -4.84000526e+03, -4.32473481e+03, -7.41182981e+03,\n",
       "        1.09173574e+04,  4.81955808e+03, -6.25864521e+03, -5.86412939e+02,\n",
       "       -1.48002754e+03, -4.00589356e+03,  4.12165822e+03,  1.09471324e+04,\n",
       "        5.91843003e+03,  7.57471806e+03,  1.73111703e+03,  3.43742983e+03,\n",
       "        4.39689851e+03,  1.59437446e+03, -1.55242802e+03,  3.92788035e+03,\n",
       "        6.97335879e+03,  1.26160435e+04,  5.00431130e+02,  1.61330163e+04,\n",
       "        1.69921105e+03, -6.61491558e+02,  2.73306306e+03,  1.57467520e+03,\n",
       "       -1.70672611e+03, -2.10557379e+03,  6.30208944e+02,  2.68788315e+03,\n",
       "        3.76949490e+03,  1.53859501e+03,  8.93604486e+02, -7.63906422e+02,\n",
       "        6.14524817e+02,  1.62552940e+02,  2.93776210e+03,  1.37719461e+03,\n",
       "       -4.48597155e+03, -6.74189275e+02, -9.05496080e+02])"
      ]
     },
     "execution_count": 5,
     "metadata": {},
     "output_type": "execute_result"
    }
   ],
   "source": [
    "# Ridge Regression\n",
    "X = ames.drop([\"SalePrice\", \"Order\", \"PID\"], axis = 1) # drop bc identification variables/response variable\n",
    "y = ames[\"SalePrice\"]\n",
    "\n",
    "\n",
    "ct = ColumnTransformer(\n",
    "  [\n",
    "    (\"dummify\", \n",
    "    OneHotEncoder(sparse_output = False, handle_unknown='ignore'), # do not predict new/unknown categories\n",
    "    make_column_selector(dtype_include=object)),\n",
    "    (\"standardize\", \n",
    "    StandardScaler(), \n",
    "    make_column_selector(dtype_include=np.number))\n",
    "  ],\n",
    "  remainder = \"passthrough\"\n",
    ")\n",
    "\n",
    "RidgeRegression_pipeline_1 = Pipeline(\n",
    "  [(\"preprocessing\", ct),\n",
    "  (\"ridge_regression\", Ridge(alpha = 1))]\n",
    ")\n",
    "rr_pipeline_fitted = RidgeRegression_pipeline_1.fit(X,y)\n",
    "RidgeRegression_pipeline_1.named_steps['ridge_regression'].coef_"
   ]
  },
  {
   "cell_type": "code",
   "execution_count": 6,
   "id": "e7021b6c",
   "metadata": {},
   "outputs": [
    {
     "data": {
      "text/plain": [
       "array([0.8983804 , 0.91749817, 0.79251623, 0.78248152, 0.91492025])"
      ]
     },
     "execution_count": 6,
     "metadata": {},
     "output_type": "execute_result"
    }
   ],
   "source": [
    "cross_val_score(RidgeRegression_pipeline_1, X, y, cv = 5, scoring = 'r2')"
   ]
  },
  {
   "cell_type": "code",
   "execution_count": 7,
   "id": "e5ac547f",
   "metadata": {},
   "outputs": [
    {
     "data": {
      "text/html": [
       "<div>\n",
       "<style scoped>\n",
       "    .dataframe tbody tr th:only-of-type {\n",
       "        vertical-align: middle;\n",
       "    }\n",
       "\n",
       "    .dataframe tbody tr th {\n",
       "        vertical-align: top;\n",
       "    }\n",
       "\n",
       "    .dataframe thead th {\n",
       "        text-align: right;\n",
       "    }\n",
       "</style>\n",
       "<table border=\"1\" class=\"dataframe\">\n",
       "  <thead>\n",
       "    <tr style=\"text-align: right;\">\n",
       "      <th></th>\n",
       "      <th>LR</th>\n",
       "      <th>RR</th>\n",
       "    </tr>\n",
       "  </thead>\n",
       "  <tbody>\n",
       "    <tr>\n",
       "      <th>0</th>\n",
       "      <td>-4.392098e+13</td>\n",
       "      <td>-5740.055372</td>\n",
       "    </tr>\n",
       "    <tr>\n",
       "      <th>1</th>\n",
       "      <td>-4.392098e+13</td>\n",
       "      <td>1511.928887</td>\n",
       "    </tr>\n",
       "    <tr>\n",
       "      <th>2</th>\n",
       "      <td>-4.392098e+13</td>\n",
       "      <td>-5809.704488</td>\n",
       "    </tr>\n",
       "    <tr>\n",
       "      <th>3</th>\n",
       "      <td>-4.392098e+13</td>\n",
       "      <td>7676.327583</td>\n",
       "    </tr>\n",
       "    <tr>\n",
       "      <th>4</th>\n",
       "      <td>-4.392098e+13</td>\n",
       "      <td>3215.393618</td>\n",
       "    </tr>\n",
       "  </tbody>\n",
       "</table>\n",
       "</div>"
      ],
      "text/plain": [
       "             LR           RR\n",
       "0 -4.392098e+13 -5740.055372\n",
       "1 -4.392098e+13  1511.928887\n",
       "2 -4.392098e+13 -5809.704488\n",
       "3 -4.392098e+13  7676.327583\n",
       "4 -4.392098e+13  3215.393618"
      ]
     },
     "execution_count": 7,
     "metadata": {},
     "output_type": "execute_result"
    }
   ],
   "source": [
    "x = lr_pipeline_1.named_steps['linear_regression'].coef_\n",
    "y = RidgeRegression_pipeline_1.named_steps['ridge_regression'].coef_\n",
    "\n",
    "dataset = pd.DataFrame({'LR': x, 'RR': y})\n",
    "dataset.head()"
   ]
  },
  {
   "cell_type": "code",
   "execution_count": 8,
   "id": "39110208",
   "metadata": {},
   "outputs": [
    {
     "data": {
      "image/png": "[encoded data removed]",
      "text/plain": [
       "<Figure size 640x480 with 1 Axes>"
      ]
     },
     "metadata": {
      "image/png": {
       "height": 480,
       "width": 640
      }
     },
     "output_type": "display_data"
    },
    {
     "data": {
      "text/plain": [
       "<Figure Size: (640 x 480)>"
      ]
     },
     "execution_count": 8,
     "metadata": {},
     "output_type": "execute_result"
    }
   ],
   "source": [
    "from plotnine import *\n",
    "\n",
    "(ggplot(dataset,\n",
    "aes(\n",
    "  x = \"LR\",\n",
    "  y = \"RR\"\n",
    "))\n",
    "+ geom_point()\n",
    ")"
   ]
  },
  {
   "cell_type": "markdown",
   "id": "bb3689ce",
   "metadata": {},
   "source": [
    "# Practice Activity 2"
   ]
  },
  {
   "cell_type": "code",
   "execution_count": 9,
   "id": "efff06de",
   "metadata": {},
   "outputs": [
    {
     "data": {
      "text/html": [
       "<div>\n",
       "<style scoped>\n",
       "    .dataframe tbody tr th:only-of-type {\n",
       "        vertical-align: middle;\n",
       "    }\n",
       "\n",
       "    .dataframe tbody tr th {\n",
       "        vertical-align: top;\n",
       "    }\n",
       "\n",
       "    .dataframe thead th {\n",
       "        text-align: right;\n",
       "    }\n",
       "</style>\n",
       "<table border=\"1\" class=\"dataframe\">\n",
       "  <thead>\n",
       "    <tr style=\"text-align: right;\">\n",
       "      <th></th>\n",
       "      <th>alpha</th>\n",
       "      <th>scores</th>\n",
       "    </tr>\n",
       "  </thead>\n",
       "  <tbody>\n",
       "    <tr>\n",
       "      <th>0</th>\n",
       "      <td>0.001</td>\n",
       "      <td>0.852945</td>\n",
       "    </tr>\n",
       "    <tr>\n",
       "      <th>1</th>\n",
       "      <td>0.010</td>\n",
       "      <td>0.853224</td>\n",
       "    </tr>\n",
       "    <tr>\n",
       "      <th>2</th>\n",
       "      <td>0.100</td>\n",
       "      <td>0.855423</td>\n",
       "    </tr>\n",
       "    <tr>\n",
       "      <th>3</th>\n",
       "      <td>1.000</td>\n",
       "      <td>0.861159</td>\n",
       "    </tr>\n",
       "    <tr>\n",
       "      <th>4</th>\n",
       "      <td>10.000</td>\n",
       "      <td>0.863355</td>\n",
       "    </tr>\n",
       "  </tbody>\n",
       "</table>\n",
       "</div>"
      ],
      "text/plain": [
       "    alpha    scores\n",
       "0   0.001  0.852945\n",
       "1   0.010  0.853224\n",
       "2   0.100  0.855423\n",
       "3   1.000  0.861159\n",
       "4  10.000  0.863355"
      ]
     },
     "execution_count": 9,
     "metadata": {},
     "output_type": "execute_result"
    }
   ],
   "source": [
    "from sklearn.model_selection import GridSearchCV\n",
    "\n",
    "X = ames.drop([\"SalePrice\", \"Order\", \"PID\"], axis = 1) # drop bc identification variables/response variable\n",
    "y = ames[\"SalePrice\"]\n",
    "\n",
    "ct = ColumnTransformer(\n",
    "  [\n",
    "    (\"dummify\", \n",
    "    OneHotEncoder(sparse_output = False, handle_unknown='ignore'), # do not predict new/unknown categories\n",
    "    make_column_selector(dtype_include=object)),\n",
    "    (\"standardize\", \n",
    "    StandardScaler(), \n",
    "    make_column_selector(dtype_include=np.number))\n",
    "  ],\n",
    "  remainder = \"passthrough\"\n",
    ")\n",
    "\n",
    "RidgeRegression_pipeline_1 = Pipeline(\n",
    "  [(\"preprocessing\", ct),\n",
    "  (\"ridge_regression\", Ridge())]\n",
    ")\n",
    "\n",
    "alpha = {'ridge_regression__alpha': [0.001, 0.01, 0.1, 1, 10]}\n",
    "\n",
    "gscv = GridSearchCV(RidgeRegression_pipeline_1, alpha, cv = 5, scoring='r2')\n",
    "gscv_fitted = gscv.fit(X, y)\n",
    "pd.DataFrame(data = {\"alpha\": [0.001, 0.01, 0.1, 1, 10], \"scores\": gscv_fitted.cv_results_['mean_test_score']})"
   ]
  },
  {
   "cell_type": "markdown",
   "id": "aef5e685",
   "metadata": {},
   "source": [
    "# Practice Activity 3"
   ]
  },
  {
   "cell_type": "code",
   "execution_count": 10,
   "id": "556c44a5",
   "metadata": {},
   "outputs": [
    {
     "name": "stderr",
     "output_type": "stream",
     "text": [
      "/Users/nicholaseah/anaconda3/lib/python3.11/site-packages/sklearn/linear_model/_coordinate_descent.py:628: ConvergenceWarning: Objective did not converge. You might want to increase the number of iterations, check the scale of the features or consider increasing regularisation. Duality gap: 2.103e+11, tolerance: 1.348e+09\n",
      "/Users/nicholaseah/anaconda3/lib/python3.11/site-packages/sklearn/linear_model/_coordinate_descent.py:628: ConvergenceWarning: Objective did not converge. You might want to increase the number of iterations, check the scale of the features or consider increasing regularisation. Duality gap: 3.098e+11, tolerance: 1.474e+09\n",
      "/Users/nicholaseah/anaconda3/lib/python3.11/site-packages/sklearn/linear_model/_coordinate_descent.py:628: ConvergenceWarning: Objective did not converge. You might want to increase the number of iterations, check the scale of the features or consider increasing regularisation. Duality gap: 1.871e+11, tolerance: 1.463e+09\n",
      "/Users/nicholaseah/anaconda3/lib/python3.11/site-packages/sklearn/linear_model/_coordinate_descent.py:628: ConvergenceWarning: Objective did not converge. You might want to increase the number of iterations, check the scale of the features or consider increasing regularisation. Duality gap: 1.734e+11, tolerance: 1.407e+09\n",
      "/Users/nicholaseah/anaconda3/lib/python3.11/site-packages/sklearn/linear_model/_coordinate_descent.py:628: ConvergenceWarning: Objective did not converge. You might want to increase the number of iterations, check the scale of the features or consider increasing regularisation. Duality gap: 2.553e+11, tolerance: 1.477e+09\n",
      "/Users/nicholaseah/anaconda3/lib/python3.11/site-packages/sklearn/linear_model/_coordinate_descent.py:628: ConvergenceWarning: Objective did not converge. You might want to increase the number of iterations, check the scale of the features or consider increasing regularisation. Duality gap: 2.104e+11, tolerance: 1.348e+09\n",
      "/Users/nicholaseah/anaconda3/lib/python3.11/site-packages/sklearn/linear_model/_coordinate_descent.py:628: ConvergenceWarning: Objective did not converge. You might want to increase the number of iterations, check the scale of the features or consider increasing regularisation. Duality gap: 3.099e+11, tolerance: 1.474e+09\n",
      "/Users/nicholaseah/anaconda3/lib/python3.11/site-packages/sklearn/linear_model/_coordinate_descent.py:628: ConvergenceWarning: Objective did not converge. You might want to increase the number of iterations, check the scale of the features or consider increasing regularisation. Duality gap: 1.963e+11, tolerance: 1.463e+09\n",
      "/Users/nicholaseah/anaconda3/lib/python3.11/site-packages/sklearn/linear_model/_coordinate_descent.py:628: ConvergenceWarning: Objective did not converge. You might want to increase the number of iterations, check the scale of the features or consider increasing regularisation. Duality gap: 1.735e+11, tolerance: 1.407e+09\n",
      "/Users/nicholaseah/anaconda3/lib/python3.11/site-packages/sklearn/linear_model/_coordinate_descent.py:628: ConvergenceWarning: Objective did not converge. You might want to increase the number of iterations, check the scale of the features or consider increasing regularisation. Duality gap: 1.536e+11, tolerance: 1.477e+09\n",
      "/Users/nicholaseah/anaconda3/lib/python3.11/site-packages/sklearn/linear_model/_coordinate_descent.py:628: ConvergenceWarning: Objective did not converge. You might want to increase the number of iterations, check the scale of the features or consider increasing regularisation. Duality gap: 2.213e+11, tolerance: 1.348e+09\n",
      "/Users/nicholaseah/anaconda3/lib/python3.11/site-packages/sklearn/linear_model/_coordinate_descent.py:628: ConvergenceWarning: Objective did not converge. You might want to increase the number of iterations, check the scale of the features or consider increasing regularisation. Duality gap: 1.558e+11, tolerance: 1.474e+09\n",
      "/Users/nicholaseah/anaconda3/lib/python3.11/site-packages/sklearn/linear_model/_coordinate_descent.py:628: ConvergenceWarning: Objective did not converge. You might want to increase the number of iterations, check the scale of the features or consider increasing regularisation. Duality gap: 1.877e+11, tolerance: 1.463e+09\n",
      "/Users/nicholaseah/anaconda3/lib/python3.11/site-packages/sklearn/linear_model/_coordinate_descent.py:628: ConvergenceWarning: Objective did not converge. You might want to increase the number of iterations, check the scale of the features or consider increasing regularisation. Duality gap: 1.677e+11, tolerance: 1.407e+09\n",
      "/Users/nicholaseah/anaconda3/lib/python3.11/site-packages/sklearn/linear_model/_coordinate_descent.py:628: ConvergenceWarning: Objective did not converge. You might want to increase the number of iterations, check the scale of the features or consider increasing regularisation. Duality gap: 1.539e+11, tolerance: 1.477e+09\n",
      "/Users/nicholaseah/anaconda3/lib/python3.11/site-packages/sklearn/linear_model/_coordinate_descent.py:628: ConvergenceWarning: Objective did not converge. You might want to increase the number of iterations, check the scale of the features or consider increasing regularisation. Duality gap: 1.688e+10, tolerance: 1.474e+09\n",
      "/Users/nicholaseah/anaconda3/lib/python3.11/site-packages/sklearn/linear_model/_coordinate_descent.py:628: ConvergenceWarning: Objective did not converge. You might want to increase the number of iterations, check the scale of the features or consider increasing regularisation. Duality gap: 2.393e+10, tolerance: 1.463e+09\n",
      "/Users/nicholaseah/anaconda3/lib/python3.11/site-packages/sklearn/linear_model/_coordinate_descent.py:628: ConvergenceWarning: Objective did not converge. You might want to increase the number of iterations, check the scale of the features or consider increasing regularisation. Duality gap: 3.582e+10, tolerance: 1.477e+09\n"
     ]
    },
    {
     "data": {
      "text/html": [
       "<div>\n",
       "<style scoped>\n",
       "    .dataframe tbody tr th:only-of-type {\n",
       "        vertical-align: middle;\n",
       "    }\n",
       "\n",
       "    .dataframe tbody tr th {\n",
       "        vertical-align: top;\n",
       "    }\n",
       "\n",
       "    .dataframe thead th {\n",
       "        text-align: right;\n",
       "    }\n",
       "</style>\n",
       "<table border=\"1\" class=\"dataframe\">\n",
       "  <thead>\n",
       "    <tr style=\"text-align: right;\">\n",
       "      <th></th>\n",
       "      <th>alpha</th>\n",
       "      <th>scores</th>\n",
       "    </tr>\n",
       "  </thead>\n",
       "  <tbody>\n",
       "    <tr>\n",
       "      <th>0</th>\n",
       "      <td>0.001</td>\n",
       "      <td>0.854440</td>\n",
       "    </tr>\n",
       "    <tr>\n",
       "      <th>1</th>\n",
       "      <td>0.010</td>\n",
       "      <td>0.854549</td>\n",
       "    </tr>\n",
       "    <tr>\n",
       "      <th>2</th>\n",
       "      <td>0.100</td>\n",
       "      <td>0.855394</td>\n",
       "    </tr>\n",
       "    <tr>\n",
       "      <th>3</th>\n",
       "      <td>1.000</td>\n",
       "      <td>0.855890</td>\n",
       "    </tr>\n",
       "    <tr>\n",
       "      <th>4</th>\n",
       "      <td>10.000</td>\n",
       "      <td>0.859495</td>\n",
       "    </tr>\n",
       "  </tbody>\n",
       "</table>\n",
       "</div>"
      ],
      "text/plain": [
       "    alpha    scores\n",
       "0   0.001  0.854440\n",
       "1   0.010  0.854549\n",
       "2   0.100  0.855394\n",
       "3   1.000  0.855890\n",
       "4  10.000  0.859495"
      ]
     },
     "execution_count": 10,
     "metadata": {},
     "output_type": "execute_result"
    }
   ],
   "source": [
    "X = ames.drop([\"SalePrice\", \"Order\", \"PID\"], axis = 1) # drop bc identification variables/response variable\n",
    "y = ames[\"SalePrice\"]\n",
    "\n",
    "ct = ColumnTransformer(\n",
    "  [\n",
    "    (\"dummify\", \n",
    "    OneHotEncoder(sparse_output = False, handle_unknown='ignore'), # do not predict new/unknown categories\n",
    "    make_column_selector(dtype_include=object)),\n",
    "    (\"standardize\", \n",
    "    StandardScaler(), \n",
    "    make_column_selector(dtype_include=np.number))\n",
    "  ],\n",
    "  remainder = \"passthrough\"\n",
    ")\n",
    "\n",
    "LASSORegression_pipeline_1 = Pipeline(\n",
    "  [(\"preprocessing\", ct),\n",
    "  (\"lasso_regression\", Lasso())]\n",
    ")\n",
    "\n",
    "alpha = {'lasso_regression__alpha': [0.001, 0.01, 0.1, 1, 10]}\n",
    "\n",
    "gscv = GridSearchCV(LASSORegression_pipeline_1, alpha, cv = 5, scoring='r2')\n",
    "gscv_fitted = gscv.fit(X, y)\n",
    "pd.DataFrame(data = {\"alpha\": [0.001, 0.01, 0.1, 1, 10], \"scores\": gscv_fitted.cv_results_['mean_test_score']})"
   ]
  },
  {
   "cell_type": "code",
   "execution_count": 13,
   "id": "39b63a26",
   "metadata": {},
   "outputs": [
    {
     "data": {
      "text/plain": [
       "array([-4.98858303e+03,  0.00000000e+00, -0.00000000e+00,  4.00181341e+03,\n",
       "        2.14948506e+03, -2.11477605e+03, -1.59450790e+04,  6.35818301e-10,\n",
       "       -1.20191692e+03,  4.04633342e+03, -0.00000000e+00,  0.00000000e+00,\n",
       "       -9.66549017e+03,  5.20215419e+03, -9.22804541e+03,  1.84785086e+02,\n",
       "        4.47757943e+03, -0.00000000e+00, -0.00000000e+00,  0.00000000e+00,\n",
       "        6.58680683e+03, -5.90434708e+03, -1.94634911e+03,  0.00000000e+00,\n",
       "       -0.00000000e+00,  5.84192249e+03, -1.23322174e+04,  7.48644321e+03,\n",
       "        7.91253765e+03,  1.34266297e+04,  3.24998752e+03, -0.00000000e+00,\n",
       "       -2.60026242e+03,  1.43138097e+04, -1.07407923e+04, -4.02688778e+03,\n",
       "        9.19393978e+03,  1.10738947e+05, -3.03284734e+03,  0.00000000e+00,\n",
       "        6.62601594e+03, -6.46633247e+03, -6.33874747e+03,  1.39178351e+04,\n",
       "       -8.86182281e+03,  3.47073682e+04,  2.72683598e+04, -6.92148410e+03,\n",
       "       -4.03337169e+03, -1.80762219e+03, -3.25196177e+03,  1.78266699e+04,\n",
       "        4.41965192e+04, -2.99389945e+02, -2.74093036e+03, -1.56661971e+03,\n",
       "       -0.00000000e+00,  8.09268283e+03,  6.40779298e+03,  1.27477139e+04,\n",
       "       -4.19702456e+03,  7.22559063e+02, -0.00000000e+00, -4.90667470e+03,\n",
       "        0.00000000e+00, -1.72763225e+03, -0.00000000e+00,  5.33222028e+04,\n",
       "       -1.00570943e+05,  2.23432826e+04,  0.00000000e+00,  0.00000000e+00,\n",
       "        9.89389088e+03,  1.10851028e+04,  0.00000000e+00, -1.05060540e+04,\n",
       "       -4.47158648e+03, -7.61455337e+02,  5.69831920e+03,  6.26455577e+03,\n",
       "       -4.31778934e+03, -7.44863344e+02, -3.55135703e+03,  7.22562726e+03,\n",
       "        1.77912795e+03, -1.05651004e+04,  0.00000000e+00,  0.00000000e+00,\n",
       "        1.83336175e+03, -6.52223821e+03,  0.00000000e+00, -5.69357423e+05,\n",
       "       -1.49900683e+03,  1.39046770e+04,  3.17415518e+03, -0.00000000e+00,\n",
       "        0.00000000e+00, -1.43220365e+03,  6.17010536e+04,  0.00000000e+00,\n",
       "        0.00000000e+00,  3.34157762e+02,  1.88737219e+04, -0.00000000e+00,\n",
       "       -5.49868820e+02, -2.16834937e+03, -0.00000000e+00,  2.98210927e+03,\n",
       "       -0.00000000e+00,  4.40622214e+04, -0.00000000e+00,  0.00000000e+00,\n",
       "       -5.32125701e+03,  9.13083082e+02, -6.04518409e+01, -0.00000000e+00,\n",
       "        7.93923176e+03,  0.00000000e+00, -6.80108971e+03, -0.00000000e+00,\n",
       "       -0.00000000e+00,  7.92787859e+02,  5.86451235e+03,  0.00000000e+00,\n",
       "       -0.00000000e+00, -1.18035895e+03,  0.00000000e+00, -1.54434629e+03,\n",
       "        2.15705115e+03,  6.71848679e+03, -2.21771945e+02, -9.39754811e+02,\n",
       "       -5.10125841e+03,  0.00000000e+00, -3.10081550e+04,  4.03529290e+03,\n",
       "        4.56990888e+03,  2.30989621e+04,  5.03211802e+03, -4.29943139e+02,\n",
       "       -2.35852303e+03, -1.96757257e+03, -3.72000448e+03,  1.08252749e+03,\n",
       "       -0.00000000e+00,  1.51472239e+03, -7.30955571e+02,  0.00000000e+00,\n",
       "        2.24502622e+03,  8.84033028e+03, -4.76684024e+03,  1.77657275e+04,\n",
       "        1.95677741e+03, -1.31485559e+03, -0.00000000e+00, -0.00000000e+00,\n",
       "       -0.00000000e+00,  4.39284494e+02, -5.83414623e+02,  2.61821825e+03,\n",
       "       -0.00000000e+00,  5.84678048e+03,  1.63986241e+04, -1.22378532e+03,\n",
       "       -1.42444732e+03,  2.45644689e+02, -9.72490404e+01,  3.63261887e+03,\n",
       "       -4.03630665e+03, -2.29347170e+03,  1.47407519e+03,  3.32822552e+03,\n",
       "       -3.84821412e+03,  7.11195368e+03, -6.13339431e+03, -4.38284981e+03,\n",
       "        1.19463747e+02,  1.52869663e+03, -0.00000000e+00,  0.00000000e+00,\n",
       "       -1.58184014e+04,  3.12342706e+03, -1.57615067e+03,  1.24299776e+03,\n",
       "       -0.00000000e+00, -0.00000000e+00,  2.89815253e+03, -0.00000000e+00,\n",
       "        0.00000000e+00, -1.50507207e+03, -0.00000000e+00,  0.00000000e+00,\n",
       "        0.00000000e+00,  2.20291800e+04,  0.00000000e+00, -7.98415185e+01,\n",
       "        0.00000000e+00, -5.89713773e+02, -0.00000000e+00, -3.90876834e+03,\n",
       "        4.20782548e+03,  3.63240510e+03, -0.00000000e+00, -0.00000000e+00,\n",
       "       -7.76499058e+03,  1.26469249e+04,  1.42305014e+02, -1.26403644e+03,\n",
       "        0.00000000e+00, -5.90704559e+03,  0.00000000e+00,  1.92833238e+04,\n",
       "        1.68637889e+03, -1.86538171e+03, -0.00000000e+00,  5.17890872e+03,\n",
       "        0.00000000e+00, -0.00000000e+00, -3.14649569e+03, -7.33746645e+03,\n",
       "        1.04610372e+04,  1.37317718e+03, -5.24425819e+03, -0.00000000e+00,\n",
       "        0.00000000e+00, -3.92644423e+03,  4.33075635e+03,  1.03844448e+04,\n",
       "        6.29502064e+03,  8.57173759e+03,  1.83091891e+03,  3.38792025e+03,\n",
       "        8.80151131e+03,  2.68950410e+03,  9.30083208e+02,  4.39399687e+03,\n",
       "        1.48930760e+04,  2.16445880e+04,  1.18242383e+03,  5.71375258e+03,\n",
       "        1.06022957e+03, -9.93047467e+02,  2.20394355e+03,  1.27678138e+03,\n",
       "       -2.03071712e+03, -1.88412740e+03,  1.43805940e+02,  2.48928420e+03,\n",
       "        2.14635828e+03,  2.98448797e+03,  6.87017121e+02, -7.09385080e+02,\n",
       "        4.03266833e+02,  7.45054546e+01,  2.62591182e+03,  2.54856597e+03,\n",
       "       -4.91768533e+03, -7.07921096e+02, -7.29599145e+02])"
      ]
     },
     "execution_count": 13,
     "metadata": {},
     "output_type": "execute_result"
    }
   ],
   "source": [
    "# Best R-squared with alpha = 10\n",
    "LASSORegression_pipeline_1 = Pipeline(\n",
    "  [(\"preprocessing\", ct),\n",
    "  (\"lasso_regression\", Lasso(alpha = 10))]\n",
    ")\n",
    "lasso_fitted = LASSORegression_pipeline_1.fit(X,y)\n",
    "LASSORegression_pipeline_1.named_steps['lasso_regression'].coef_"
   ]
  },
  {
   "cell_type": "code",
   "execution_count": 15,
   "id": "effe1e7f",
   "metadata": {},
   "outputs": [
    {
     "data": {
      "image/png": "[encoded data removed]",
      "text/plain": [
       "<Figure size 640x480 with 1 Axes>"
      ]
     },
     "metadata": {
      "image/png": {
       "height": 480,
       "width": 640
      }
     },
     "output_type": "display_data"
    },
    {
     "data": {
      "text/plain": [
       "<Figure Size: (640 x 480)>"
      ]
     },
     "execution_count": 15,
     "metadata": {},
     "output_type": "execute_result"
    }
   ],
   "source": [
    "z = LASSORegression_pipeline_1.named_steps['lasso_regression'].coef_\n",
    "y = LASSORegression_pipeline_1.named_steps['lasso_regression'].coef_\n",
    "dataset = pd.DataFrame({'LR': x, 'LASSO': z, 'RR': y})\n",
    "\n",
    "\n",
    "(ggplot(dataset,\n",
    "aes(\n",
    "  x = \"LR\",\n",
    "  y = \"LASSO\"\n",
    "))\n",
    "+ geom_point()\n",
    ")"
   ]
  },
  {
   "cell_type": "code",
   "execution_count": 16,
   "id": "c216d98b",
   "metadata": {},
   "outputs": [
    {
     "data": {
      "image/png": "[encoded data removed]",
      "text/plain": [
       "<Figure size 640x480 with 1 Axes>"
      ]
     },
     "metadata": {
      "image/png": {
       "height": 480,
       "width": 640
      }
     },
     "output_type": "display_data"
    },
    {
     "data": {
      "text/plain": [
       "<Figure Size: (640 x 480)>"
      ]
     },
     "execution_count": 16,
     "metadata": {},
     "output_type": "execute_result"
    }
   ],
   "source": [
    "(ggplot(dataset,\n",
    "aes(\n",
    "  x = \"RR\",\n",
    "  y = \"LASSO\"\n",
    "))\n",
    "+ geom_point()\n",
    ")"
   ]
  },
  {
   "cell_type": "markdown",
   "id": "69c7ed32",
   "metadata": {},
   "source": [
    "# Practice Activity 4"
   ]
  },
  {
   "cell_type": "code",
   "execution_count": 18,
   "id": "c0869d55",
   "metadata": {},
   "outputs": [
    {
     "name": "stderr",
     "output_type": "stream",
     "text": [
      "/Users/nicholaseah/anaconda3/lib/python3.11/site-packages/sklearn/linear_model/_coordinate_descent.py:628: ConvergenceWarning: Objective did not converge. You might want to increase the number of iterations, check the scale of the features or consider increasing regularisation. Duality gap: 1.980e+10, tolerance: 1.793e+09\n"
     ]
    },
    {
     "data": {
      "text/plain": [
       "array([-5.44483374e+03,  1.53107283e+03, -5.91129108e+03,  7.04052253e+03,\n",
       "        3.42581683e+03, -1.10748714e+03, -1.92570268e+04,  3.73730013e-09,\n",
       "       -1.46267421e+03,  4.45030047e+03, -8.73495152e+00,  1.61004526e-01,\n",
       "       -9.23841683e+03,  5.29881603e+03, -1.10691207e+04,  1.25131799e+02,\n",
       "        1.45344523e+04, -6.02419601e+03, -0.00000000e+00,  2.27851702e+02,\n",
       "        6.72939809e+03, -6.08498179e+03, -3.73718071e+03,  0.00000000e+00,\n",
       "       -0.00000000e+00,  6.34789898e+03, -2.12466202e+04,  7.43273645e+03,\n",
       "        1.00657959e+04,  1.42896286e+04,  9.55939950e+02, -4.29546340e+03,\n",
       "       -5.59427024e+03,  1.15593153e+04, -1.39579953e+04, -6.83811831e+03,\n",
       "        1.21774192e+04,  1.33740764e+05, -5.70423832e+03,  0.00000000e+00,\n",
       "        7.65342907e+03, -9.46906874e+03, -9.73398772e+03,  1.76113133e+04,\n",
       "       -1.24040889e+04,  3.16431415e+04,  2.49778172e+04, -9.60745721e+03,\n",
       "       -7.82431750e+03, -5.37313080e+03, -6.53908867e+03,  1.55512780e+04,\n",
       "        4.30231947e+04, -3.33887778e+03, -6.61795368e+03, -2.43644188e+03,\n",
       "       -0.00000000e+00,  8.07709074e+03,  6.87715031e+03,  1.41596080e+04,\n",
       "       -4.72846358e+03,  1.11938649e+03, -3.59188900e+03, -8.12967076e+03,\n",
       "       -3.14357109e+01, -6.67720783e+03, -1.70892178e+03,  5.78327763e+04,\n",
       "       -1.11715819e+05,  4.04033957e+04,  1.15881786e+03,  4.62117067e+02,\n",
       "        1.01135849e+04,  1.05284490e+04, -0.00000000e+00, -1.32163626e+04,\n",
       "       -6.23675244e+03, -8.96103337e+02,  8.10143462e+03,  7.50490143e+03,\n",
       "       -1.13753746e+04, -1.36042556e+03, -3.86762057e+03,  8.82782123e+03,\n",
       "        2.43381339e+03, -2.68852716e+04,  2.16753955e+00, -3.30716751e+02,\n",
       "        1.87324850e+03, -9.72193630e+03,  1.07442959e+04, -6.18786867e+05,\n",
       "       -1.25197036e+04,  5.78738091e+04,  4.64045347e+04, -7.62273875e+03,\n",
       "        3.63123942e+01, -1.47174207e+04,  5.48396760e+04,  3.17250632e+03,\n",
       "        6.06332819e+03,  9.37198966e+03,  2.16495489e+04, -1.05905137e+01,\n",
       "       -2.78361252e+03, -2.98525002e+03, -2.82673485e+04,  3.69966534e+03,\n",
       "       -4.30519560e+02,  7.49717842e+04, -0.00000000e+00,  2.37327466e+03,\n",
       "       -6.60478609e+03,  1.81189812e+03, -1.90066224e+02, -2.73684928e+03,\n",
       "        1.72064884e+04, -2.37503504e+03, -8.82094219e+03, -1.33770052e+03,\n",
       "        2.05951679e+03,  2.57254502e+03,  1.05998238e+04,  6.86406372e+02,\n",
       "       -8.89697417e+03, -0.00000000e+00,  6.83390150e+02, -1.57324674e+04,\n",
       "        2.55516141e+03,  8.93810568e+03, -0.00000000e+00, -1.07258379e+02,\n",
       "       -5.45176850e+03, -3.31472693e+02, -7.07116109e+04,  3.56503934e+03,\n",
       "        4.88947141e+03,  2.39380274e+04,  6.44535016e+03, -4.17797869e-01,\n",
       "       -1.90509615e+03, -4.38004829e+03, -5.32819573e+03,  8.48012626e+02,\n",
       "       -0.00000000e+00,  1.22493541e+03, -7.60610875e+02, -0.00000000e+00,\n",
       "        2.21164833e+03,  1.19403165e+04, -1.00661629e+04,  1.68125201e+04,\n",
       "        2.15685346e+03, -1.59187316e+03, -9.01484798e+02, -0.00000000e+00,\n",
       "       -4.62865092e+03,  9.02523075e+02, -7.67741191e+02,  1.16876450e+04,\n",
       "       -0.00000000e+00,  6.08362737e+03,  1.63409579e+04, -9.88605029e+02,\n",
       "       -1.03688302e+03,  2.33802077e+00, -3.39530506e+02,  3.58861806e+03,\n",
       "       -4.47151490e+03, -2.78478379e+03,  1.70548745e+03,  4.07187849e+03,\n",
       "       -4.17386073e+03,  7.56543398e+03, -7.14063349e+03, -5.03411460e+03,\n",
       "        2.08174400e+02,  1.87333591e+03, -0.00000000e+00,  0.00000000e+00,\n",
       "       -2.86251987e+04,  3.17387939e+03, -1.57322334e+03,  1.33398729e+03,\n",
       "       -6.01249630e+03, -0.00000000e+00,  3.58969995e+03, -0.00000000e+00,\n",
       "        1.21858835e+01, -2.90380731e+03, -1.26127580e+03,  8.83186325e+02,\n",
       "        0.00000000e+00,  2.23767711e+04, -8.97422985e+01, -0.00000000e+00,\n",
       "        2.59981120e+04, -4.15555231e+02,  0.00000000e+00, -9.79273984e+03,\n",
       "        5.70375524e+03,  4.84462914e+03, -2.06150746e+03, -0.00000000e+00,\n",
       "       -1.81023177e+04,  1.34487195e+04,  0.00000000e+00, -1.37172228e+03,\n",
       "        0.00000000e+00, -4.47852595e+03,  3.71199404e+03,  2.69515120e+04,\n",
       "        5.64344689e+03, -2.65175801e+03, -4.72409200e+00,  8.11762969e+03,\n",
       "        1.92665405e+03, -4.15389491e+03, -1.27481376e+03, -6.14291149e+03,\n",
       "        1.52815526e+04,  3.09309585e+03, -5.00209249e+03,  5.60780737e+02,\n",
       "       -4.59032823e+02, -3.61506120e+03,  4.85983220e+03,  1.00715643e+04,\n",
       "        6.31829954e+03,  8.75756272e+03,  1.77525529e+03,  3.36959367e+03,\n",
       "        1.03942212e+04,  3.37025710e+03,  2.05745380e+03,  3.29586883e+03,\n",
       "        1.56089323e+04,  2.30080800e+04,  1.47894170e+03,  5.10996868e+03,\n",
       "        9.44188432e+02, -9.60854347e+02,  2.22888603e+03,  1.24536547e+03,\n",
       "       -2.01269865e+03, -2.10021877e+03, -3.79929509e+01,  2.29797663e+03,\n",
       "        2.08592189e+03,  3.02088293e+03,  7.39764539e+02, -7.15650467e+02,\n",
       "        3.22743170e+02,  1.50188327e+01,  2.69484598e+03,  2.71307237e+03,\n",
       "       -5.17895472e+03, -7.00734370e+02, -7.00761349e+02])"
      ]
     },
     "execution_count": 18,
     "metadata": {},
     "output_type": "execute_result"
    }
   ],
   "source": [
    "X = ames.drop([\"SalePrice\", \"Order\", \"PID\"], axis = 1) # drop bc identification variables/response variable\n",
    "y = ames[\"SalePrice\"]\n",
    "\n",
    "ct = ColumnTransformer(\n",
    "  [\n",
    "    (\"dummify\", \n",
    "    OneHotEncoder(sparse_output = False, handle_unknown='ignore'), # do not predict new/unknown categories\n",
    "    make_column_selector(dtype_include=object)),\n",
    "    (\"standardize\", \n",
    "    StandardScaler(), \n",
    "    make_column_selector(dtype_include=np.number))\n",
    "  ],\n",
    "  remainder = \"passthrough\"\n",
    ")\n",
    "\n",
    "ElasticNetPipeline = Pipeline(\n",
    "  [(\"preprocessing\", ct),\n",
    "  ('elastic_net_regression', ElasticNet(alpha=1, l1_ratio=1))]\n",
    ")\n",
    "\n",
    "fitted_elastic_net_pipeline = ElasticNetPipeline.fit(X,y)\n",
    "fitted_elastic_net_pipeline.named_steps['elastic_net_regression'].coef_"
   ]
  },
  {
   "cell_type": "code",
   "execution_count": 20,
   "id": "acde48e8",
   "metadata": {},
   "outputs": [
    {
     "name": "stderr",
     "output_type": "stream",
     "text": [
      "/Users/nicholaseah/anaconda3/lib/python3.11/site-packages/sklearn/linear_model/_coordinate_descent.py:628: ConvergenceWarning: Objective did not converge. You might want to increase the number of iterations, check the scale of the features or consider increasing regularisation. Duality gap: 2.103e+11, tolerance: 1.348e+09\n",
      "/Users/nicholaseah/anaconda3/lib/python3.11/site-packages/sklearn/linear_model/_coordinate_descent.py:628: ConvergenceWarning: Objective did not converge. You might want to increase the number of iterations, check the scale of the features or consider increasing regularisation. Duality gap: 3.098e+11, tolerance: 1.474e+09\n",
      "/Users/nicholaseah/anaconda3/lib/python3.11/site-packages/sklearn/linear_model/_coordinate_descent.py:628: ConvergenceWarning: Objective did not converge. You might want to increase the number of iterations, check the scale of the features or consider increasing regularisation. Duality gap: 1.871e+11, tolerance: 1.463e+09\n",
      "/Users/nicholaseah/anaconda3/lib/python3.11/site-packages/sklearn/linear_model/_coordinate_descent.py:628: ConvergenceWarning: Objective did not converge. You might want to increase the number of iterations, check the scale of the features or consider increasing regularisation. Duality gap: 1.734e+11, tolerance: 1.407e+09\n",
      "/Users/nicholaseah/anaconda3/lib/python3.11/site-packages/sklearn/linear_model/_coordinate_descent.py:628: ConvergenceWarning: Objective did not converge. You might want to increase the number of iterations, check the scale of the features or consider increasing regularisation. Duality gap: 2.553e+11, tolerance: 1.477e+09\n",
      "/Users/nicholaseah/anaconda3/lib/python3.11/site-packages/sklearn/linear_model/_coordinate_descent.py:628: ConvergenceWarning: Objective did not converge. You might want to increase the number of iterations, check the scale of the features or consider increasing regularisation. Duality gap: 2.104e+11, tolerance: 1.348e+09\n",
      "/Users/nicholaseah/anaconda3/lib/python3.11/site-packages/sklearn/linear_model/_coordinate_descent.py:628: ConvergenceWarning: Objective did not converge. You might want to increase the number of iterations, check the scale of the features or consider increasing regularisation. Duality gap: 3.099e+11, tolerance: 1.474e+09\n",
      "/Users/nicholaseah/anaconda3/lib/python3.11/site-packages/sklearn/linear_model/_coordinate_descent.py:628: ConvergenceWarning: Objective did not converge. You might want to increase the number of iterations, check the scale of the features or consider increasing regularisation. Duality gap: 1.963e+11, tolerance: 1.463e+09\n",
      "/Users/nicholaseah/anaconda3/lib/python3.11/site-packages/sklearn/linear_model/_coordinate_descent.py:628: ConvergenceWarning: Objective did not converge. You might want to increase the number of iterations, check the scale of the features or consider increasing regularisation. Duality gap: 1.735e+11, tolerance: 1.407e+09\n",
      "/Users/nicholaseah/anaconda3/lib/python3.11/site-packages/sklearn/linear_model/_coordinate_descent.py:628: ConvergenceWarning: Objective did not converge. You might want to increase the number of iterations, check the scale of the features or consider increasing regularisation. Duality gap: 1.536e+11, tolerance: 1.477e+09\n",
      "/Users/nicholaseah/anaconda3/lib/python3.11/site-packages/sklearn/linear_model/_coordinate_descent.py:628: ConvergenceWarning: Objective did not converge. You might want to increase the number of iterations, check the scale of the features or consider increasing regularisation. Duality gap: 2.213e+11, tolerance: 1.348e+09\n",
      "/Users/nicholaseah/anaconda3/lib/python3.11/site-packages/sklearn/linear_model/_coordinate_descent.py:628: ConvergenceWarning: Objective did not converge. You might want to increase the number of iterations, check the scale of the features or consider increasing regularisation. Duality gap: 1.558e+11, tolerance: 1.474e+09\n",
      "/Users/nicholaseah/anaconda3/lib/python3.11/site-packages/sklearn/linear_model/_coordinate_descent.py:628: ConvergenceWarning: Objective did not converge. You might want to increase the number of iterations, check the scale of the features or consider increasing regularisation. Duality gap: 1.877e+11, tolerance: 1.463e+09\n",
      "/Users/nicholaseah/anaconda3/lib/python3.11/site-packages/sklearn/linear_model/_coordinate_descent.py:628: ConvergenceWarning: Objective did not converge. You might want to increase the number of iterations, check the scale of the features or consider increasing regularisation. Duality gap: 1.677e+11, tolerance: 1.407e+09\n",
      "/Users/nicholaseah/anaconda3/lib/python3.11/site-packages/sklearn/linear_model/_coordinate_descent.py:628: ConvergenceWarning: Objective did not converge. You might want to increase the number of iterations, check the scale of the features or consider increasing regularisation. Duality gap: 1.539e+11, tolerance: 1.477e+09\n",
      "/Users/nicholaseah/anaconda3/lib/python3.11/site-packages/sklearn/base.py:1151: UserWarning: With alpha=0, this algorithm does not converge well. You are advised to use the LinearRegression estimator\n",
      "/Users/nicholaseah/anaconda3/lib/python3.11/site-packages/sklearn/linear_model/_coordinate_descent.py:628: UserWarning: Coordinate descent with no regularization may lead to unexpected results and is discouraged.\n",
      "/Users/nicholaseah/anaconda3/lib/python3.11/site-packages/sklearn/linear_model/_coordinate_descent.py:628: ConvergenceWarning: Objective did not converge. You might want to increase the number of iterations, check the scale of the features or consider increasing regularisation. Duality gap: 5.191e+11, tolerance: 1.348e+09 Linear regression models with null weight for the l1 regularization term are more efficiently fitted using one of the solvers implemented in sklearn.linear_model.Ridge/RidgeCV instead.\n",
      "/Users/nicholaseah/anaconda3/lib/python3.11/site-packages/sklearn/base.py:1151: UserWarning: With alpha=0, this algorithm does not converge well. You are advised to use the LinearRegression estimator\n",
      "/Users/nicholaseah/anaconda3/lib/python3.11/site-packages/sklearn/linear_model/_coordinate_descent.py:628: UserWarning: Coordinate descent with no regularization may lead to unexpected results and is discouraged.\n",
      "/Users/nicholaseah/anaconda3/lib/python3.11/site-packages/sklearn/linear_model/_coordinate_descent.py:628: ConvergenceWarning: Objective did not converge. You might want to increase the number of iterations, check the scale of the features or consider increasing regularisation. Duality gap: 5.887e+11, tolerance: 1.474e+09 Linear regression models with null weight for the l1 regularization term are more efficiently fitted using one of the solvers implemented in sklearn.linear_model.Ridge/RidgeCV instead.\n",
      "/Users/nicholaseah/anaconda3/lib/python3.11/site-packages/sklearn/base.py:1151: UserWarning: With alpha=0, this algorithm does not converge well. You are advised to use the LinearRegression estimator\n",
      "/Users/nicholaseah/anaconda3/lib/python3.11/site-packages/sklearn/linear_model/_coordinate_descent.py:628: UserWarning: Coordinate descent with no regularization may lead to unexpected results and is discouraged.\n",
      "/Users/nicholaseah/anaconda3/lib/python3.11/site-packages/sklearn/linear_model/_coordinate_descent.py:628: ConvergenceWarning: Objective did not converge. You might want to increase the number of iterations, check the scale of the features or consider increasing regularisation. Duality gap: 5.695e+11, tolerance: 1.463e+09 Linear regression models with null weight for the l1 regularization term are more efficiently fitted using one of the solvers implemented in sklearn.linear_model.Ridge/RidgeCV instead.\n",
      "/Users/nicholaseah/anaconda3/lib/python3.11/site-packages/sklearn/base.py:1151: UserWarning: With alpha=0, this algorithm does not converge well. You are advised to use the LinearRegression estimator\n",
      "/Users/nicholaseah/anaconda3/lib/python3.11/site-packages/sklearn/linear_model/_coordinate_descent.py:628: UserWarning: Coordinate descent with no regularization may lead to unexpected results and is discouraged.\n",
      "/Users/nicholaseah/anaconda3/lib/python3.11/site-packages/sklearn/linear_model/_coordinate_descent.py:628: ConvergenceWarning: Objective did not converge. You might want to increase the number of iterations, check the scale of the features or consider increasing regularisation. Duality gap: 4.078e+11, tolerance: 1.407e+09 Linear regression models with null weight for the l1 regularization term are more efficiently fitted using one of the solvers implemented in sklearn.linear_model.Ridge/RidgeCV instead.\n",
      "/Users/nicholaseah/anaconda3/lib/python3.11/site-packages/sklearn/base.py:1151: UserWarning: With alpha=0, this algorithm does not converge well. You are advised to use the LinearRegression estimator\n",
      "/Users/nicholaseah/anaconda3/lib/python3.11/site-packages/sklearn/linear_model/_coordinate_descent.py:628: UserWarning: Coordinate descent with no regularization may lead to unexpected results and is discouraged.\n"
     ]
    },
    {
     "name": "stderr",
     "output_type": "stream",
     "text": [
      "/Users/nicholaseah/anaconda3/lib/python3.11/site-packages/sklearn/linear_model/_coordinate_descent.py:628: ConvergenceWarning: Objective did not converge. You might want to increase the number of iterations, check the scale of the features or consider increasing regularisation. Duality gap: 5.915e+11, tolerance: 1.477e+09 Linear regression models with null weight for the l1 regularization term are more efficiently fitted using one of the solvers implemented in sklearn.linear_model.Ridge/RidgeCV instead.\n"
     ]
    },
    {
     "data": {
      "text/plain": [
       "{'mean_fit_time': array([0.70988379, 0.71457534, 0.84309211, 0.80619345, 0.22671318]),\n",
       " 'std_fit_time': array([0.04585203, 0.05244156, 0.17909964, 0.15093249, 0.06704982]),\n",
       " 'mean_score_time': array([0.01800909, 0.01786909, 0.0228178 , 0.0217948 , 0.01690526]),\n",
       " 'std_score_time': array([0.00208638, 0.00251238, 0.00660179, 0.0103714 , 0.00094337]),\n",
       " 'param_elastic_net_regression__alpha': masked_array(data=[0.001, 0.01, 0.1, 0, 10],\n",
       "              mask=[False, False, False, False, False],\n",
       "        fill_value='?',\n",
       "             dtype=object),\n",
       " 'params': [{'elastic_net_regression__alpha': 0.001},\n",
       "  {'elastic_net_regression__alpha': 0.01},\n",
       "  {'elastic_net_regression__alpha': 0.1},\n",
       "  {'elastic_net_regression__alpha': 0},\n",
       "  {'elastic_net_regression__alpha': 10}],\n",
       " 'split0_test_score': array([0.89845958, 0.89846254, 0.89850667, 0.89845914, 0.90126483]),\n",
       " 'split1_test_score': array([0.90958752, 0.90959277, 0.90965082, 0.90958696, 0.91466516]),\n",
       " 'split2_test_score': array([0.78788765, 0.78843197, 0.79279655, 0.78782544, 0.79834316]),\n",
       " 'split3_test_score': array([0.77001534, 0.77007616, 0.7701185 , 0.77000839, 0.77275615]),\n",
       " 'split4_test_score': array([0.90624892, 0.90618235, 0.90589892, 0.90625613, 0.91044612]),\n",
       " 'mean_test_score': array([0.8544398 , 0.85454916, 0.85539429, 0.85442721, 0.85949508]),\n",
       " 'std_test_score': array([0.0619998 , 0.06185684, 0.06089926, 0.06201609, 0.06106989]),\n",
       " 'rank_test_score': array([4, 3, 2, 5, 1], dtype=int32)}"
      ]
     },
     "execution_count": 20,
     "metadata": {},
     "output_type": "execute_result"
    }
   ],
   "source": [
    "alphas = {'elastic_net_regression__alpha': [0.001, 0.01, 0.1, 0, 10]}\n",
    "l1_ratios = {'elastic_net_regression__l1_ratios': [0.001, 0.01, 0.1, 0, 10]}\n",
    "gscv = GridSearchCV(ElasticNetPipeline, alphas, cv = 5, scoring='r2')\n",
    "gscv_fitted = gscv.fit(X, y)\n",
    "gscv_fitted.cv_results_"
   ]
  }
 ],
 "metadata": {
  "kernelspec": {
   "display_name": "Python 3 (ipykernel)",
   "language": "python",
   "name": "python3"
  },
  "language_info": {
   "codemirror_mode": {
    "name": "ipython",
    "version": 3
   },
   "file_extension": ".py",
   "mimetype": "text/x-python",
   "name": "python",
   "nbconvert_exporter": "python",
   "pygments_lexer": "ipython3",
   "version": "3.11.4"
  }
 },
 "nbformat": 4,
 "nbformat_minor": 5
}
