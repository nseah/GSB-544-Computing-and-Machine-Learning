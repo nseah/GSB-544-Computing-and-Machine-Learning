{
 "cells": [
  {
   "cell_type": "markdown",
   "metadata": {
    "id": "QWpPySbzYEIV"
   },
   "source": [
    "# Titanic Wrangling\n",
    "\n",
    "In this practice activity you'll continue to work with the titanic dataset in ways that flex what you've learned about both data wrangling and data visualization."
   ]
  },
  {
   "cell_type": "code",
   "execution_count": 3,
   "metadata": {
    "id": "Nr6w8bVCf_NM"
   },
   "outputs": [
    {
     "data": {
      "text/html": [
       "<div>\n",
       "<style scoped>\n",
       "    .dataframe tbody tr th:only-of-type {\n",
       "        vertical-align: middle;\n",
       "    }\n",
       "\n",
       "    .dataframe tbody tr th {\n",
       "        vertical-align: top;\n",
       "    }\n",
       "\n",
       "    .dataframe thead th {\n",
       "        text-align: right;\n",
       "    }\n",
       "</style>\n",
       "<table border=\"1\" class=\"dataframe\">\n",
       "  <thead>\n",
       "    <tr style=\"text-align: right;\">\n",
       "      <th></th>\n",
       "      <th>name</th>\n",
       "      <th>gender</th>\n",
       "      <th>age</th>\n",
       "      <th>class</th>\n",
       "      <th>embarked</th>\n",
       "      <th>country</th>\n",
       "      <th>ticketno</th>\n",
       "      <th>fare</th>\n",
       "      <th>survived</th>\n",
       "    </tr>\n",
       "  </thead>\n",
       "  <tbody>\n",
       "    <tr>\n",
       "      <th>0</th>\n",
       "      <td>Abbing, Mr. Anthony</td>\n",
       "      <td>male</td>\n",
       "      <td>42.0</td>\n",
       "      <td>3rd</td>\n",
       "      <td>S</td>\n",
       "      <td>United States</td>\n",
       "      <td>5547.0</td>\n",
       "      <td>7.11</td>\n",
       "      <td>0</td>\n",
       "    </tr>\n",
       "    <tr>\n",
       "      <th>1</th>\n",
       "      <td>Abbott, Mr. Eugene Joseph</td>\n",
       "      <td>male</td>\n",
       "      <td>13.0</td>\n",
       "      <td>3rd</td>\n",
       "      <td>S</td>\n",
       "      <td>United States</td>\n",
       "      <td>2673.0</td>\n",
       "      <td>20.05</td>\n",
       "      <td>0</td>\n",
       "    </tr>\n",
       "    <tr>\n",
       "      <th>2</th>\n",
       "      <td>Abbott, Mr. Rossmore Edward</td>\n",
       "      <td>male</td>\n",
       "      <td>16.0</td>\n",
       "      <td>3rd</td>\n",
       "      <td>S</td>\n",
       "      <td>United States</td>\n",
       "      <td>2673.0</td>\n",
       "      <td>20.05</td>\n",
       "      <td>0</td>\n",
       "    </tr>\n",
       "    <tr>\n",
       "      <th>3</th>\n",
       "      <td>Abbott, Mrs. Rhoda Mary 'Rosa'</td>\n",
       "      <td>female</td>\n",
       "      <td>39.0</td>\n",
       "      <td>3rd</td>\n",
       "      <td>S</td>\n",
       "      <td>England</td>\n",
       "      <td>2673.0</td>\n",
       "      <td>20.05</td>\n",
       "      <td>1</td>\n",
       "    </tr>\n",
       "    <tr>\n",
       "      <th>4</th>\n",
       "      <td>Abelseth, Miss. Karen Marie</td>\n",
       "      <td>female</td>\n",
       "      <td>16.0</td>\n",
       "      <td>3rd</td>\n",
       "      <td>S</td>\n",
       "      <td>Norway</td>\n",
       "      <td>348125.0</td>\n",
       "      <td>7.13</td>\n",
       "      <td>1</td>\n",
       "    </tr>\n",
       "  </tbody>\n",
       "</table>\n",
       "</div>"
      ],
      "text/plain": [
       "                             name  gender   age class embarked        country  \\\n",
       "0             Abbing, Mr. Anthony    male  42.0   3rd        S  United States   \n",
       "1       Abbott, Mr. Eugene Joseph    male  13.0   3rd        S  United States   \n",
       "2     Abbott, Mr. Rossmore Edward    male  16.0   3rd        S  United States   \n",
       "3  Abbott, Mrs. Rhoda Mary 'Rosa'  female  39.0   3rd        S        England   \n",
       "4     Abelseth, Miss. Karen Marie  female  16.0   3rd        S         Norway   \n",
       "\n",
       "   ticketno   fare  survived  \n",
       "0    5547.0   7.11         0  \n",
       "1    2673.0  20.05         0  \n",
       "2    2673.0  20.05         0  \n",
       "3    2673.0  20.05         1  \n",
       "4  348125.0   7.13         1  "
      ]
     },
     "execution_count": 3,
     "metadata": {},
     "output_type": "execute_result"
    }
   ],
   "source": [
    "# Import the titanic dataset here\n",
    "import pandas as pd\n",
    "import numpy as np\n",
    "\n",
    "data_dir = \"https://dlsun.github.io/pods/data/\"\n",
    "df_titanic = pd.read_csv(data_dir + \"titanic.csv\")\n",
    "df_titanic.head()"
   ]
  },
  {
   "cell_type": "markdown",
   "metadata": {
    "id": "9UgZD6VFYa96"
   },
   "source": [
    "## 1. Filter the data to include passengers only. Calculate the joint distribution (cross-tab) between a passenger's class and where they embarked."
   ]
  },
  {
   "cell_type": "code",
   "execution_count": 46,
   "metadata": {
    "id": "TBthOzDLgBif"
   },
   "outputs": [
    {
     "data": {
      "text/html": [
       "<div>\n",
       "<style scoped>\n",
       "    .dataframe tbody tr th:only-of-type {\n",
       "        vertical-align: middle;\n",
       "    }\n",
       "\n",
       "    .dataframe tbody tr th {\n",
       "        vertical-align: top;\n",
       "    }\n",
       "\n",
       "    .dataframe thead th {\n",
       "        text-align: right;\n",
       "    }\n",
       "</style>\n",
       "<table border=\"1\" class=\"dataframe\">\n",
       "  <thead>\n",
       "    <tr style=\"text-align: right;\">\n",
       "      <th>embarked</th>\n",
       "      <th>B</th>\n",
       "      <th>C</th>\n",
       "      <th>Q</th>\n",
       "      <th>S</th>\n",
       "    </tr>\n",
       "    <tr>\n",
       "      <th>class</th>\n",
       "      <th></th>\n",
       "      <th></th>\n",
       "      <th></th>\n",
       "      <th></th>\n",
       "    </tr>\n",
       "  </thead>\n",
       "  <tbody>\n",
       "    <tr>\n",
       "      <th>1st</th>\n",
       "      <td>0.002278</td>\n",
       "      <td>0.108580</td>\n",
       "      <td>0.002278</td>\n",
       "      <td>0.132878</td>\n",
       "    </tr>\n",
       "    <tr>\n",
       "      <th>2nd</th>\n",
       "      <td>0.004556</td>\n",
       "      <td>0.019742</td>\n",
       "      <td>0.005315</td>\n",
       "      <td>0.186029</td>\n",
       "    </tr>\n",
       "    <tr>\n",
       "      <th>3rd</th>\n",
       "      <td>0.000000</td>\n",
       "      <td>0.077449</td>\n",
       "      <td>0.085801</td>\n",
       "      <td>0.375095</td>\n",
       "    </tr>\n",
       "  </tbody>\n",
       "</table>\n",
       "</div>"
      ],
      "text/plain": [
       "embarked         B         C         Q         S\n",
       "class                                           \n",
       "1st       0.002278  0.108580  0.002278  0.132878\n",
       "2nd       0.004556  0.019742  0.005315  0.186029\n",
       "3rd       0.000000  0.077449  0.085801  0.375095"
      ]
     },
     "execution_count": 46,
     "metadata": {},
     "output_type": "execute_result"
    }
   ],
   "source": [
    "# Code here\n",
    "passengers = df_titanic[(df_titanic[\"class\"] == \"1st\") | (df_titanic[\"class\"] == \"2nd\") | (df_titanic[\"class\"] == \"3rd\")]\n",
    "passengers.head()\n",
    "\n",
    "joint = pd.crosstab(passengers[\"class\"], passengers[\"embarked\"], normalize = True)\n",
    "joint"
   ]
  },
  {
   "cell_type": "markdown",
   "metadata": {
    "id": "3CRaJLSyYm4d"
   },
   "source": [
    "## 2. Using the joint distribution that calculated above, calculate the following:\n",
    "\n",
    "* the conditional distribution of their class given where they embarked\n",
    "* the conditional distribution of where they embarked given their class\n",
    "\n",
    "Use the conditional distributions that you calculate to answer the following quesitons:\n",
    "\n",
    "* What proportion of 3rd class passengers embarked at Southampton?\n",
    "\n",
    "    #### P( S | 3rd Class ) = 0.6967559943582511  \n",
    "      \n",
    "\n",
    "\n",
    "* What proportion of Southampton passengers were in 3rd class?\n",
    "\n",
    "    #### P( 3rd Class | S ) = 0.5404814004376367"
   ]
  },
  {
   "cell_type": "code",
   "execution_count": 67,
   "metadata": {},
   "outputs": [
    {
     "data": {
      "text/plain": [
       "0.5404814004376367"
      ]
     },
     "execution_count": 67,
     "metadata": {},
     "output_type": "execute_result"
    }
   ],
   "source": [
    "# the conditional distribution of their class given where they embarked\n",
    "joint.iloc[0,0]/sum(joint[\"B\"]) # P(1st|B)\n",
    "joint.iloc[1,0]/sum(joint[\"B\"]) # P(2nd|B)\n",
    "joint.iloc[2,0]/sum(joint[\"B\"]) # P(3rd|B)\n",
    "\n",
    "joint.iloc[0,1]/sum(joint[\"C\"]) # P(1st|C)\n",
    "joint.iloc[1,1]/sum(joint[\"C\"]) # P(2nd|C)\n",
    "joint.iloc[2,1]/sum(joint[\"C\"]) # P(3rd|C)\n",
    "\n",
    "joint.iloc[0,2]/sum(joint[\"Q\"]) # P(1st|Q)\n",
    "joint.iloc[1,2]/sum(joint[\"Q\"]) # P(2nd|Q)\n",
    "joint.iloc[2,2]/sum(joint[\"Q\"]) # P(3rd|Q)\n",
    "\n",
    "joint.iloc[0,3]/sum(joint[\"S\"]) # P(1st|S)\n",
    "joint.iloc[1,3]/sum(joint[\"S\"]) # P(2nd|S)\n",
    "joint.iloc[2,3]/sum(joint[\"S\"]) # P(3rd|S)\n"
   ]
  },
  {
   "cell_type": "code",
   "execution_count": 68,
   "metadata": {
    "id": "TfTGidLIv1k0"
   },
   "outputs": [
    {
     "data": {
      "text/plain": [
       "0.6967559943582511"
      ]
     },
     "execution_count": 68,
     "metadata": {},
     "output_type": "execute_result"
    }
   ],
   "source": [
    "# the conditional distribution of where they embarked given their class\n",
    "joint.iloc[0,0]/sum(joint.iloc[0]) # P(B|1st)\n",
    "joint.iloc[0,1]/sum(joint.iloc[0]) # P(C|1st)\n",
    "joint.iloc[0,2]/sum(joint.iloc[0]) # P(Q|1st)\n",
    "joint.iloc[0,3]/sum(joint.iloc[0]) # P(S|1st)\n",
    "\n",
    "joint.iloc[1,0]/sum(joint.iloc[1]) # P(B|2nd)\n",
    "joint.iloc[1,1]/sum(joint.iloc[1]) # P(C|2nd)\n",
    "joint.iloc[1,2]/sum(joint.iloc[1]) # P(Q|2nd)\n",
    "joint.iloc[1,3]/sum(joint.iloc[1]) # P(S|2nd)\n",
    "\n",
    "joint.iloc[2,0]/sum(joint.iloc[2]) # P(B|3rd)\n",
    "joint.iloc[2,1]/sum(joint.iloc[2]) # P(C|3rd)\n",
    "joint.iloc[2,2]/sum(joint.iloc[2]) # P(Q|3rd)\n",
    "joint.iloc[2,3]/sum(joint.iloc[2]) # P(S|3rd)"
   ]
  },
  {
   "cell_type": "markdown",
   "metadata": {
    "id": "pGUQeeh1ZRfz"
   },
   "source": [
    "## 3. Make a visualization showing the distribution of a passenger's class, given where they embarked.\n",
    "\n",
    "Discuss the pros and cons of using this visualization versus the distributions you calculated before, to answer the previous questions."
   ]
  },
  {
   "cell_type": "code",
   "execution_count": 77,
   "metadata": {
    "id": "PZ18WKJWA-xZ"
   },
   "outputs": [
    {
     "data": {
      "image/png": "[encoded data removed]",
      "text/plain": [
       "<Figure size 640x480 with 1 Axes>"
      ]
     },
     "metadata": {
      "image/png": {
       "height": 480,
       "width": 640
      }
     },
     "output_type": "display_data"
    },
    {
     "data": {
      "text/plain": [
       "<Figure Size: (640 x 480)>"
      ]
     },
     "execution_count": 77,
     "metadata": {},
     "output_type": "execute_result"
    }
   ],
   "source": [
    "# Code here\n",
    "from plotnine import *\n",
    "\n",
    "(ggplot(passengers,\n",
    "aes(\n",
    "  x = \"embarked\",\n",
    "  fill = \"class\"\n",
    "))\n",
    "+ geom_bar(position = \"fill\")\n",
    ")"
   ]
  },
  {
   "cell_type": "markdown",
   "metadata": {},
   "source": [
    "The visualization above is nice as we are able give more meaning/visually see the percentages of each class given where they embarked from. For instance, we can immediately see that many people who embarked from Q are in the 3rd class. However, what is not great about this visualization is the fact that the bars can be deceiving. For instance, we cannot tell how many people actually embarked from Q. "
   ]
  },
  {
   "cell_type": "code",
   "execution_count": null,
   "metadata": {},
   "outputs": [],
   "source": []
  }
 ],
 "metadata": {
  "colab": {
   "provenance": []
  },
  "kernelspec": {
   "display_name": "Python 3 (ipykernel)",
   "language": "python",
   "name": "python3"
  },
  "language_info": {
   "codemirror_mode": {
    "name": "ipython",
    "version": 3
   },
   "file_extension": ".py",
   "mimetype": "text/x-python",
   "name": "python",
   "nbconvert_exporter": "python",
   "pygments_lexer": "ipython3",
   "version": "3.11.4"
  }
 },
 "nbformat": 4,
 "nbformat_minor": 1
}
