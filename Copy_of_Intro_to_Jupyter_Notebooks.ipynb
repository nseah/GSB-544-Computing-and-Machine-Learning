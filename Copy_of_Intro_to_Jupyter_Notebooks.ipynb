{
 "cells": [
  {
   "cell_type": "raw",
   "id": "7c0dd8d6",
   "metadata": {
    "id": "7c0dd8d6"
   },
   "source": [
    "<h1> Introduction to Jupyter Notebooks </h1>"
   ]
  },
  {
   "cell_type": "markdown",
   "id": "KLiOv05-tcm7",
   "metadata": {
    "id": "KLiOv05-tcm7"
   },
   "source": [
    "This notebook is composed of many *chunks*, containing either python code or formatted text.  In this activity you will practice both.  Make sure to always run each code chunk once as you work past it."
   ]
  },
  {
   "cell_type": "markdown",
   "id": "kZcVtNnqtHRU",
   "metadata": {
    "id": "kZcVtNnqtHRU"
   },
   "source": [
    "*Get in a group of 3-4 people.  You should each fill out your own copy of this notebook.*"
   ]
  },
  {
   "cell_type": "code",
   "execution_count": 12,
   "id": "libraries-py",
   "metadata": {
    "id": "libraries-py"
   },
   "outputs": [],
   "source": [
    "#| label: libraries-py\n",
    "#| include: false\n",
    "import matplotlib.pyplot as plt"
   ]
  },
  {
   "cell_type": "markdown",
   "id": "89613630",
   "metadata": {
    "id": "89613630"
   },
   "source": [
    "1.  Write the names of your group members below, as a bullet point list.\n",
    "\n",
    "2.  Find something that all of you enjoy for fun. Insert a related picture or meme below.\n",
    "\n",
    "3.  Everyone decide your comfort level on a scale of 1-10 in python, and your favorite colors from [this](https://matplotlib.org/stable/gallery/color/named_colors.html) list.\n",
    "\n",
    "Edit the code below so that it has your names and corresponding comfort levels.\n"
   ]
  },
  {
   "cell_type": "markdown",
   "id": "c8daf3d0",
   "metadata": {},
   "source": [
    "![Lebron](lebron.png)"
   ]
  },
  {
   "cell_type": "code",
   "execution_count": 11,
   "id": "2351ba83",
   "metadata": {
    "id": "group_info-py"
   },
   "outputs": [],
   "source": [
    "#| label: group_info-py\n",
    "group_data = {\n",
    "  'names': [\"Nicholas Seah\", \"Riley Svensson\", \"Kabir Wagle\", \"Tyler Clyde\"],\n",
    "  'colors': [\"limegreen\", \"goldenrod\", \"red\", \"blue\"],\n",
    "  'comfort': [7, 3, 5, 3]\n",
    "  }"
   ]
  },
  {
   "cell_type": "markdown",
   "id": "f8ac1475",
   "metadata": {
    "id": "f8ac1475"
   },
   "source": [
    "4.  Click \"Run\" on the code chunk below and see the plot that is produced.\n",
    "\n",
    "(Do not edit the code below!)"
   ]
  },
  {
   "cell_type": "code",
   "execution_count": 3,
   "id": "plot-py",
   "metadata": {
    "id": "plot-py"
   },
   "outputs": [
    {
     "data": {
      "image/png": "[encoded data removed]",
      "text/plain": [
       "<Figure size 640x480 with 1 Axes>"
      ]
     },
     "metadata": {},
     "output_type": "display_data"
    }
   ],
   "source": [
    "#| label: plot-py\n",
    "#| fig-cap: Our comfort levels with python\n",
    "\n",
    "plt.bar(x = group_data['names'], height = group_data['comfort'], color = group_data['colors'])\n",
    "plt.ylabel(\"Comfort with python\")\n",
    "plt.show()"
   ]
  },
  {
   "cell_type": "code",
   "execution_count": null,
   "id": "0914b6b7",
   "metadata": {},
   "outputs": [],
   "source": []
  }
 ],
 "metadata": {
  "colab": {
   "provenance": []
  },
  "kernelspec": {
   "display_name": "Python 3 (ipykernel)",
   "language": "python",
   "name": "python3"
  },
  "language_info": {
   "codemirror_mode": {
    "name": "ipython",
    "version": 3
   },
   "file_extension": ".py",
   "mimetype": "text/x-python",
   "name": "python",
   "nbconvert_exporter": "python",
   "pygments_lexer": "ipython3",
   "version": "3.11.4"
  }
 },
 "nbformat": 4,
 "nbformat_minor": 5
}
