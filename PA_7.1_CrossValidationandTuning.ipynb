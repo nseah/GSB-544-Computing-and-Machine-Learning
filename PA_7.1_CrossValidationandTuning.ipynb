{
 "cells": [
  {
   "cell_type": "raw",
   "id": "1d7dc86f",
   "metadata": {},
   "source": [
    "---\n",
    "self-contained: true\n",
    "title: 'PA 7.1'\n",
    "author: 'Nicholas Seah'\n",
    "format:\n",
    "    html:\n",
    "        theme: journal\n",
    "---"
   ]
  },
  {
   "cell_type": "markdown",
   "id": "20411104",
   "metadata": {},
   "source": [
    "### Consider four possible models for predicting house prices:\n",
    "\n",
    "- Using only the size and number of rooms.\n",
    "- Using size, number of rooms, and building type.\n",
    "- Using size and building type, and their interaction.\n",
    "- Using a 5-degree polynomial on size, a 5-degree polynomial on number of rooms, and also building type.\n",
    "\n",
    "### Set up a pipeline for each of these four models.\n",
    "\n",
    "### Then, get predictions on the test set for each of your pipelines, and compute the root mean squared error. Which model performed best?\n",
    "\n",
    "### Note: You should only use the function train_test_split() one time in your code; that is, we should be predicting on the same test set for all three models."
   ]
  },
  {
   "cell_type": "code",
   "execution_count": 28,
   "id": "8644b99c",
   "metadata": {},
   "outputs": [],
   "source": [
    "import pandas as pd\n",
    "from sklearn.pipeline import Pipeline\n",
    "from sklearn.preprocessing import StandardScaler, OneHotEncoder, PolynomialFeatures\n",
    "from sklearn.linear_model import LinearRegression\n",
    "from sklearn.model_selection import train_test_split\n",
    "from sklearn.compose import ColumnTransformer\n",
    "from sklearn.metrics import mean_squared_error\n",
    "from sklearn.model_selection import cross_val_score\n",
    "import numpy as np"
   ]
  },
  {
   "cell_type": "code",
   "execution_count": 2,
   "id": "d8ab7bb2",
   "metadata": {},
   "outputs": [
    {
     "data": {
      "text/html": [
       "<div>\n",
       "<style scoped>\n",
       "    .dataframe tbody tr th:only-of-type {\n",
       "        vertical-align: middle;\n",
       "    }\n",
       "\n",
       "    .dataframe tbody tr th {\n",
       "        vertical-align: top;\n",
       "    }\n",
       "\n",
       "    .dataframe thead th {\n",
       "        text-align: right;\n",
       "    }\n",
       "</style>\n",
       "<table border=\"1\" class=\"dataframe\">\n",
       "  <thead>\n",
       "    <tr style=\"text-align: right;\">\n",
       "      <th></th>\n",
       "      <th>Order</th>\n",
       "      <th>PID</th>\n",
       "      <th>MS SubClass</th>\n",
       "      <th>MS Zoning</th>\n",
       "      <th>Lot Frontage</th>\n",
       "      <th>Lot Area</th>\n",
       "      <th>Street</th>\n",
       "      <th>Alley</th>\n",
       "      <th>Lot Shape</th>\n",
       "      <th>Land Contour</th>\n",
       "      <th>...</th>\n",
       "      <th>Pool Area</th>\n",
       "      <th>Pool QC</th>\n",
       "      <th>Fence</th>\n",
       "      <th>Misc Feature</th>\n",
       "      <th>Misc Val</th>\n",
       "      <th>Mo Sold</th>\n",
       "      <th>Yr Sold</th>\n",
       "      <th>Sale Type</th>\n",
       "      <th>Sale Condition</th>\n",
       "      <th>SalePrice</th>\n",
       "    </tr>\n",
       "  </thead>\n",
       "  <tbody>\n",
       "    <tr>\n",
       "      <th>0</th>\n",
       "      <td>1</td>\n",
       "      <td>526301100</td>\n",
       "      <td>20</td>\n",
       "      <td>RL</td>\n",
       "      <td>141.0</td>\n",
       "      <td>31770</td>\n",
       "      <td>Pave</td>\n",
       "      <td>NaN</td>\n",
       "      <td>IR1</td>\n",
       "      <td>Lvl</td>\n",
       "      <td>...</td>\n",
       "      <td>0</td>\n",
       "      <td>NaN</td>\n",
       "      <td>NaN</td>\n",
       "      <td>NaN</td>\n",
       "      <td>0</td>\n",
       "      <td>5</td>\n",
       "      <td>2010</td>\n",
       "      <td>WD</td>\n",
       "      <td>Normal</td>\n",
       "      <td>215000</td>\n",
       "    </tr>\n",
       "    <tr>\n",
       "      <th>1</th>\n",
       "      <td>2</td>\n",
       "      <td>526350040</td>\n",
       "      <td>20</td>\n",
       "      <td>RH</td>\n",
       "      <td>80.0</td>\n",
       "      <td>11622</td>\n",
       "      <td>Pave</td>\n",
       "      <td>NaN</td>\n",
       "      <td>Reg</td>\n",
       "      <td>Lvl</td>\n",
       "      <td>...</td>\n",
       "      <td>0</td>\n",
       "      <td>NaN</td>\n",
       "      <td>MnPrv</td>\n",
       "      <td>NaN</td>\n",
       "      <td>0</td>\n",
       "      <td>6</td>\n",
       "      <td>2010</td>\n",
       "      <td>WD</td>\n",
       "      <td>Normal</td>\n",
       "      <td>105000</td>\n",
       "    </tr>\n",
       "    <tr>\n",
       "      <th>2</th>\n",
       "      <td>3</td>\n",
       "      <td>526351010</td>\n",
       "      <td>20</td>\n",
       "      <td>RL</td>\n",
       "      <td>81.0</td>\n",
       "      <td>14267</td>\n",
       "      <td>Pave</td>\n",
       "      <td>NaN</td>\n",
       "      <td>IR1</td>\n",
       "      <td>Lvl</td>\n",
       "      <td>...</td>\n",
       "      <td>0</td>\n",
       "      <td>NaN</td>\n",
       "      <td>NaN</td>\n",
       "      <td>Gar2</td>\n",
       "      <td>12500</td>\n",
       "      <td>6</td>\n",
       "      <td>2010</td>\n",
       "      <td>WD</td>\n",
       "      <td>Normal</td>\n",
       "      <td>172000</td>\n",
       "    </tr>\n",
       "    <tr>\n",
       "      <th>3</th>\n",
       "      <td>4</td>\n",
       "      <td>526353030</td>\n",
       "      <td>20</td>\n",
       "      <td>RL</td>\n",
       "      <td>93.0</td>\n",
       "      <td>11160</td>\n",
       "      <td>Pave</td>\n",
       "      <td>NaN</td>\n",
       "      <td>Reg</td>\n",
       "      <td>Lvl</td>\n",
       "      <td>...</td>\n",
       "      <td>0</td>\n",
       "      <td>NaN</td>\n",
       "      <td>NaN</td>\n",
       "      <td>NaN</td>\n",
       "      <td>0</td>\n",
       "      <td>4</td>\n",
       "      <td>2010</td>\n",
       "      <td>WD</td>\n",
       "      <td>Normal</td>\n",
       "      <td>244000</td>\n",
       "    </tr>\n",
       "    <tr>\n",
       "      <th>4</th>\n",
       "      <td>5</td>\n",
       "      <td>527105010</td>\n",
       "      <td>60</td>\n",
       "      <td>RL</td>\n",
       "      <td>74.0</td>\n",
       "      <td>13830</td>\n",
       "      <td>Pave</td>\n",
       "      <td>NaN</td>\n",
       "      <td>IR1</td>\n",
       "      <td>Lvl</td>\n",
       "      <td>...</td>\n",
       "      <td>0</td>\n",
       "      <td>NaN</td>\n",
       "      <td>MnPrv</td>\n",
       "      <td>NaN</td>\n",
       "      <td>0</td>\n",
       "      <td>3</td>\n",
       "      <td>2010</td>\n",
       "      <td>WD</td>\n",
       "      <td>Normal</td>\n",
       "      <td>189900</td>\n",
       "    </tr>\n",
       "  </tbody>\n",
       "</table>\n",
       "<p>5 rows × 82 columns</p>\n",
       "</div>"
      ],
      "text/plain": [
       "   Order        PID  MS SubClass MS Zoning  Lot Frontage  Lot Area Street  \\\n",
       "0      1  526301100           20        RL         141.0     31770   Pave   \n",
       "1      2  526350040           20        RH          80.0     11622   Pave   \n",
       "2      3  526351010           20        RL          81.0     14267   Pave   \n",
       "3      4  526353030           20        RL          93.0     11160   Pave   \n",
       "4      5  527105010           60        RL          74.0     13830   Pave   \n",
       "\n",
       "  Alley Lot Shape Land Contour  ... Pool Area Pool QC  Fence Misc Feature  \\\n",
       "0   NaN       IR1          Lvl  ...         0     NaN    NaN          NaN   \n",
       "1   NaN       Reg          Lvl  ...         0     NaN  MnPrv          NaN   \n",
       "2   NaN       IR1          Lvl  ...         0     NaN    NaN         Gar2   \n",
       "3   NaN       Reg          Lvl  ...         0     NaN    NaN          NaN   \n",
       "4   NaN       IR1          Lvl  ...         0     NaN  MnPrv          NaN   \n",
       "\n",
       "  Misc Val Mo Sold Yr Sold Sale Type  Sale Condition  SalePrice  \n",
       "0        0       5    2010       WD           Normal     215000  \n",
       "1        0       6    2010       WD           Normal     105000  \n",
       "2    12500       6    2010       WD           Normal     172000  \n",
       "3        0       4    2010       WD           Normal     244000  \n",
       "4        0       3    2010       WD           Normal     189900  \n",
       "\n",
       "[5 rows x 82 columns]"
      ]
     },
     "execution_count": 2,
     "metadata": {},
     "output_type": "execute_result"
    }
   ],
   "source": [
    "housing = pd.read_csv(\"/Users/nicholaseah/Downloads/AmesHousing.csv\")\n",
    "housing.head()"
   ]
  },
  {
   "cell_type": "code",
   "execution_count": 3,
   "id": "e71aaa85",
   "metadata": {},
   "outputs": [],
   "source": [
    "lr = LinearRegression()\n",
    "\n",
    "X = housing.drop(\"SalePrice\", axis = 1)\n",
    "y = housing[\"SalePrice\"]\n",
    "\n",
    "X_train, X_test, y_train, y_test = train_test_split(X, y)"
   ]
  },
  {
   "cell_type": "markdown",
   "id": "49f0323a",
   "metadata": {},
   "source": [
    "### size and number of rooms"
   ]
  },
  {
   "cell_type": "code",
   "execution_count": 10,
   "id": "06761e8f",
   "metadata": {},
   "outputs": [],
   "source": [
    "# size and number of rooms\n",
    "ct = ColumnTransformer(\n",
    "  [\n",
    "    (\"standardize\", StandardScaler(), [\"Gr Liv Area\", \"TotRms AbvGrd\"])\n",
    "  ],\n",
    "  remainder = \"drop\"\n",
    ")\n",
    "\n",
    "\n",
    "lr_pipeline1 = Pipeline(\n",
    "  [(\"preprocessing\", ct),\n",
    "  (\"linear_regression\", LinearRegression())]\n",
    ")\n",
    "\n",
    "lr_fitted = lr_pipeline1.fit(X_train,y_train)"
   ]
  },
  {
   "cell_type": "code",
   "execution_count": 11,
   "id": "7cdbfbaf",
   "metadata": {},
   "outputs": [
    {
     "data": {
      "text/plain": [
       "53827.345528802136"
      ]
     },
     "execution_count": 11,
     "metadata": {},
     "output_type": "execute_result"
    }
   ],
   "source": [
    "y_preds = lr_fitted.predict(X_test)\n",
    "mean_squared_error(y_test, y_preds, squared = False)"
   ]
  },
  {
   "cell_type": "markdown",
   "id": "fe977438",
   "metadata": {},
   "source": [
    "### size, number of rooms, and building type"
   ]
  },
  {
   "cell_type": "code",
   "execution_count": 12,
   "id": "4fab2734",
   "metadata": {},
   "outputs": [
    {
     "data": {
      "text/plain": [
       "51901.22722549979"
      ]
     },
     "execution_count": 12,
     "metadata": {},
     "output_type": "execute_result"
    }
   ],
   "source": [
    "# size, num of rooms, and building type\n",
    "ct = ColumnTransformer(\n",
    "  [\n",
    "    (\"dummify\", OneHotEncoder(sparse_output = False), [\"Bldg Type\"]),\n",
    "    (\"standardize\", StandardScaler(), [\"Gr Liv Area\", \"TotRms AbvGrd\"])\n",
    "  ],\n",
    "  remainder = \"drop\"\n",
    ")\n",
    "\n",
    "\n",
    "lr_pipeline2 = Pipeline(\n",
    "  [(\"preprocessing\", ct),\n",
    "  (\"linear_regression\", LinearRegression())]\n",
    ")\n",
    "\n",
    "lr_fitted = lr_pipeline2.fit(X_train,y_train)\n",
    "y_preds = lr_fitted.predict(X_test)\n",
    "mean_squared_error(y_test, y_preds, squared = False)"
   ]
  },
  {
   "cell_type": "markdown",
   "id": "7cf3c8a7",
   "metadata": {},
   "source": [
    "### size and building type, and their interaction"
   ]
  },
  {
   "cell_type": "code",
   "execution_count": 13,
   "id": "83a93055",
   "metadata": {},
   "outputs": [
    {
     "data": {
      "text/plain": [
       "60510.25264703423"
      ]
     },
     "execution_count": 13,
     "metadata": {},
     "output_type": "execute_result"
    }
   ],
   "source": [
    "ct_dummies = ColumnTransformer(\n",
    "  [(\"dummify\", OneHotEncoder(sparse_output = False), [\"Bldg Type\"])],\n",
    "  remainder = \"passthrough\"\n",
    ").set_output(transform = \"pandas\")\n",
    "\n",
    "ct_inter = ColumnTransformer(\n",
    "  [\n",
    "    (\"interaction1\", PolynomialFeatures(interaction_only=True), [\"remainder__TotRms AbvGrd\", \"dummify__Bldg Type_1Fam\"]),\n",
    "    (\"interaction2\", PolynomialFeatures(interaction_only=True), [\"remainder__TotRms AbvGrd\", \"dummify__Bldg Type_TwnhsE\"]),\n",
    "    (\"interaction3\", PolynomialFeatures(interaction_only=True), [\"remainder__TotRms AbvGrd\", \"dummify__Bldg Type_Twnhs\"]),\n",
    "    (\"interaction4\", PolynomialFeatures(interaction_only=True), [\"remainder__TotRms AbvGrd\", \"dummify__Bldg Type_Duplex\"]),\n",
    "    (\"interaction5\", PolynomialFeatures(interaction_only=True), [\"remainder__TotRms AbvGrd\", \"dummify__Bldg Type_2fmCon\"]),\n",
    "  ],\n",
    "  remainder = \"drop\"\n",
    ").set_output(transform = \"pandas\")\n",
    "\n",
    "lr_pipeline3 = Pipeline(\n",
    "    [(\"dummify\", ct_dummies),\n",
    "     (\"interactions\", ct_inter),\n",
    "     (\"linear_regression\", LinearRegression())\n",
    "    ]\n",
    ")\n",
    "\n",
    "lr_fitted = lr_pipeline3.fit(X_train,y_train)\n",
    "y_preds = lr_fitted.predict(X_test)\n",
    "mean_squared_error(y_test, y_preds, squared = False)\n"
   ]
  },
  {
   "cell_type": "markdown",
   "id": "cb9efa56",
   "metadata": {},
   "source": [
    "### 5-degree polynomial on size, a 5-degree polynomial on number of rooms, and also building type"
   ]
  },
  {
   "cell_type": "code",
   "execution_count": 14,
   "id": "b30c1e24",
   "metadata": {},
   "outputs": [
    {
     "data": {
      "text/plain": [
       "54690.16361529879"
      ]
     },
     "execution_count": 14,
     "metadata": {},
     "output_type": "execute_result"
    }
   ],
   "source": [
    "#5-degree polynomial on size, a 5-degree polynomial on number of rooms, and also building type\n",
    "\n",
    "ct = ColumnTransformer(\n",
    "    [\n",
    "      (\"dummify\", OneHotEncoder(sparse_output=False), [\"Bldg Type\"]),\n",
    "      (\"poly_size\", PolynomialFeatures(degree=5, include_bias=False), [\"Gr Liv Area\"]),\n",
    "      (\"poly_rooms\", PolynomialFeatures(degree=5, include_bias=False), [\"TotRms AbvGrd\"])\n",
    "\n",
    "    ],\n",
    "    remainder=\"drop\")\n",
    "\n",
    "lr_pipeline4 = Pipeline(\n",
    "    [\n",
    "        (\"preprocessing\", ct),\n",
    "        (\"ols\", LinearRegression())\n",
    "    ]\n",
    ")\n",
    "\n",
    "\n",
    "lr_fitted = lr_pipeline4.fit(X_train,y_train)\n",
    "y_preds = lr_fitted.predict(X_test)\n",
    "mean_squared_error(y_test, y_preds, squared = False)"
   ]
  },
  {
   "cell_type": "markdown",
   "id": "156ebf5b",
   "metadata": {},
   "source": [
    "Based on the MSE values, the model with the lowest MSE was the model with size, num of rooms, and building type. Therefore, we can say that this model performed the best."
   ]
  },
  {
   "cell_type": "markdown",
   "id": "2924bf6f",
   "metadata": {},
   "source": [
    "#### Once again consider four modeling options for house price:\n",
    "\n",
    "- Using only the size and number of rooms.\n",
    "- Using size, number of rooms, and building type.\n",
    "- Using size and building type, and their interaction.\n",
    "- Using a 5-degree polynomial on size, a 5-degree polynomial on number of rooms, and also building type.\n",
    "\n",
    "#### Use cross_val_score with the pipelines you made earlier to find the cross-validated root mean squared error for each model.\n",
    "\n",
    "#### Which do you prefer? Does this agree with your conclusion from earlier?"
   ]
  },
  {
   "cell_type": "code",
   "execution_count": 30,
   "id": "d62af2a8",
   "metadata": {},
   "outputs": [
    {
     "name": "stdout",
     "output_type": "stream",
     "text": [
      "56001.24023779208 54311.685543940046 63970.57235835044 56557.832467076514\n"
     ]
    }
   ],
   "source": [
    "# Model 1\n",
    "mse1 = cross_val_score(lr_pipeline1, X, y, cv=5, scoring='neg_mean_squared_error')\n",
    "mse1 = np.sqrt((mse1*-1).mean())\n",
    "\n",
    "# Model 2\n",
    "mse2 = cross_val_score(lr_pipeline2, X, y, cv=5, scoring='neg_mean_squared_error')\n",
    "mse2 = np.sqrt((mse2*-1).mean())\n",
    "\n",
    "# Model 3\n",
    "mse3 = cross_val_score(lr_pipeline3, X, y, cv=5, scoring='neg_mean_squared_error')\n",
    "mse3 = np.sqrt((mse3*-1).mean())\n",
    "\n",
    "# Model 4\n",
    "mse4 = cross_val_score(lr_pipeline4, X, y, cv=5, scoring='neg_mean_squared_error')\n",
    "mse4 = np.sqrt((mse4*-1).mean())\n",
    "\n",
    "print(mse1, mse2, mse3, mse4)"
   ]
  },
  {
   "cell_type": "markdown",
   "id": "c09d5003",
   "metadata": {},
   "source": [
    "Based on the RMSE values, we see that the second model is still prefered, consistent with our results from the previous Practice Activity"
   ]
  },
  {
   "cell_type": "markdown",
   "id": "a36cdbb9",
   "metadata": {},
   "source": [
    "#### Consider one hundred modeling options for house price:\n",
    "\n",
    "- House size, trying degrees 1 through 10\n",
    "- Number of rooms, trying degrees 1 through 10\n",
    "- Building Type\n",
    "#### Hint: The dictionary of possible values that you make to give to GridSearchCV will have two elements instead of one.\n",
    "\n",
    "#### Q1: Which model performed the best?\n",
    "\n",
    "#### Q2: What downsides do you see of trying all possible model options? How might you go about choosing a smaller number of tuning values to try?"
   ]
  },
  {
   "cell_type": "markdown",
   "id": "51697d00",
   "metadata": {},
   "source": [
    "#### House size, degrees 1 through 10"
   ]
  },
  {
   "cell_type": "code",
   "execution_count": 32,
   "id": "ec85ec93",
   "metadata": {},
   "outputs": [],
   "source": [
    "from sklearn.model_selection import GridSearchCV\n",
    "\n",
    "\n",
    "ct_poly = ColumnTransformer(\n",
    "  [\n",
    "    (\"polynomial\", PolynomialFeatures(), [\"Gr Liv Area\"])\n",
    "  ],\n",
    "  remainder = \"drop\"\n",
    ")\n",
    "\n",
    "lr_pipeline_poly = Pipeline(\n",
    "  [(\"preprocessing\", ct_poly),\n",
    "  (\"linear_regression\", LinearRegression())]\n",
    ").set_output(transform=\"pandas\")\n",
    "\n",
    "degrees = {'preprocessing__polynomial__degree': np.arange(1, 11)}\n",
    "\n",
    "gscv = GridSearchCV(lr_pipeline_poly, degrees, cv = 5, scoring='r2')"
   ]
  },
  {
   "cell_type": "code",
   "execution_count": 41,
   "id": "efb64c01",
   "metadata": {},
   "outputs": [
    {
     "data": {
      "text/html": [
       "<div>\n",
       "<style scoped>\n",
       "    .dataframe tbody tr th:only-of-type {\n",
       "        vertical-align: middle;\n",
       "    }\n",
       "\n",
       "    .dataframe tbody tr th {\n",
       "        vertical-align: top;\n",
       "    }\n",
       "\n",
       "    .dataframe thead th {\n",
       "        text-align: right;\n",
       "    }\n",
       "</style>\n",
       "<table border=\"1\" class=\"dataframe\">\n",
       "  <thead>\n",
       "    <tr style=\"text-align: right;\">\n",
       "      <th></th>\n",
       "      <th>degrees</th>\n",
       "      <th>scores</th>\n",
       "    </tr>\n",
       "  </thead>\n",
       "  <tbody>\n",
       "    <tr>\n",
       "      <th>0</th>\n",
       "      <td>1</td>\n",
       "      <td>0.488503</td>\n",
       "    </tr>\n",
       "    <tr>\n",
       "      <th>1</th>\n",
       "      <td>2</td>\n",
       "      <td>0.490241</td>\n",
       "    </tr>\n",
       "    <tr>\n",
       "      <th>2</th>\n",
       "      <td>3</td>\n",
       "      <td>0.507396</td>\n",
       "    </tr>\n",
       "    <tr>\n",
       "      <th>3</th>\n",
       "      <td>4</td>\n",
       "      <td>0.499218</td>\n",
       "    </tr>\n",
       "    <tr>\n",
       "      <th>4</th>\n",
       "      <td>5</td>\n",
       "      <td>0.451860</td>\n",
       "    </tr>\n",
       "    <tr>\n",
       "      <th>5</th>\n",
       "      <td>6</td>\n",
       "      <td>0.333837</td>\n",
       "    </tr>\n",
       "    <tr>\n",
       "      <th>6</th>\n",
       "      <td>7</td>\n",
       "      <td>0.029322</td>\n",
       "    </tr>\n",
       "    <tr>\n",
       "      <th>7</th>\n",
       "      <td>8</td>\n",
       "      <td>-0.968096</td>\n",
       "    </tr>\n",
       "    <tr>\n",
       "      <th>8</th>\n",
       "      <td>9</td>\n",
       "      <td>-4.545597</td>\n",
       "    </tr>\n",
       "    <tr>\n",
       "      <th>9</th>\n",
       "      <td>10</td>\n",
       "      <td>-16.187917</td>\n",
       "    </tr>\n",
       "  </tbody>\n",
       "</table>\n",
       "</div>"
      ],
      "text/plain": [
       "   degrees     scores\n",
       "0        1   0.488503\n",
       "1        2   0.490241\n",
       "2        3   0.507396\n",
       "3        4   0.499218\n",
       "4        5   0.451860\n",
       "5        6   0.333837\n",
       "6        7   0.029322\n",
       "7        8  -0.968096\n",
       "8        9  -4.545597\n",
       "9       10 -16.187917"
      ]
     },
     "execution_count": 41,
     "metadata": {},
     "output_type": "execute_result"
    }
   ],
   "source": [
    "gscv_fitted = gscv.fit(X, y)\n",
    "pd.DataFrame(data = {\"degrees\": np.arange(1, 11), \"scores\": gscv_fitted.cv_results_['mean_test_score']})"
   ]
  },
  {
   "cell_type": "code",
   "execution_count": 33,
   "id": "b8cd3b85",
   "metadata": {},
   "outputs": [
    {
     "data": {
      "text/html": [
       "<div>\n",
       "<style scoped>\n",
       "    .dataframe tbody tr th:only-of-type {\n",
       "        vertical-align: middle;\n",
       "    }\n",
       "\n",
       "    .dataframe tbody tr th {\n",
       "        vertical-align: top;\n",
       "    }\n",
       "\n",
       "    .dataframe thead th {\n",
       "        text-align: right;\n",
       "    }\n",
       "</style>\n",
       "<table border=\"1\" class=\"dataframe\">\n",
       "  <thead>\n",
       "    <tr style=\"text-align: right;\">\n",
       "      <th></th>\n",
       "      <th>degrees</th>\n",
       "      <th>scores</th>\n",
       "    </tr>\n",
       "  </thead>\n",
       "  <tbody>\n",
       "    <tr>\n",
       "      <th>0</th>\n",
       "      <td>1</td>\n",
       "      <td>0.230878</td>\n",
       "    </tr>\n",
       "    <tr>\n",
       "      <th>1</th>\n",
       "      <td>2</td>\n",
       "      <td>0.226764</td>\n",
       "    </tr>\n",
       "    <tr>\n",
       "      <th>2</th>\n",
       "      <td>3</td>\n",
       "      <td>0.235220</td>\n",
       "    </tr>\n",
       "    <tr>\n",
       "      <th>3</th>\n",
       "      <td>4</td>\n",
       "      <td>0.233668</td>\n",
       "    </tr>\n",
       "    <tr>\n",
       "      <th>4</th>\n",
       "      <td>5</td>\n",
       "      <td>0.221095</td>\n",
       "    </tr>\n",
       "    <tr>\n",
       "      <th>5</th>\n",
       "      <td>6</td>\n",
       "      <td>0.136030</td>\n",
       "    </tr>\n",
       "    <tr>\n",
       "      <th>6</th>\n",
       "      <td>7</td>\n",
       "      <td>0.203600</td>\n",
       "    </tr>\n",
       "    <tr>\n",
       "      <th>7</th>\n",
       "      <td>8</td>\n",
       "      <td>-0.431101</td>\n",
       "    </tr>\n",
       "    <tr>\n",
       "      <th>8</th>\n",
       "      <td>9</td>\n",
       "      <td>-0.318159</td>\n",
       "    </tr>\n",
       "    <tr>\n",
       "      <th>9</th>\n",
       "      <td>10</td>\n",
       "      <td>-630.557770</td>\n",
       "    </tr>\n",
       "  </tbody>\n",
       "</table>\n",
       "</div>"
      ],
      "text/plain": [
       "   degrees      scores\n",
       "0        1    0.230878\n",
       "1        2    0.226764\n",
       "2        3    0.235220\n",
       "3        4    0.233668\n",
       "4        5    0.221095\n",
       "5        6    0.136030\n",
       "6        7    0.203600\n",
       "7        8   -0.431101\n",
       "8        9   -0.318159\n",
       "9       10 -630.557770"
      ]
     },
     "execution_count": 33,
     "metadata": {},
     "output_type": "execute_result"
    }
   ],
   "source": [
    "ct_poly = ColumnTransformer(\n",
    "  [\n",
    "    (\"polynomial\", PolynomialFeatures(), [\"TotRms AbvGrd\"])\n",
    "  ],\n",
    "  remainder = \"drop\"\n",
    ")\n",
    "\n",
    "lr_pipeline_poly = Pipeline(\n",
    "  [(\"preprocessing\", ct_poly),\n",
    "  (\"linear_regression\", LinearRegression())]\n",
    ").set_output(transform=\"pandas\")\n",
    "\n",
    "degrees = {'preprocessing__polynomial__degree': np.arange(1, 11)}\n",
    "\n",
    "gscv = GridSearchCV(lr_pipeline_poly, degrees, cv = 5, scoring='r2')\n",
    "gscv_fitted = gscv.fit(X, y)\n",
    "pd.DataFrame(data = {\"degrees\": np.arange(1, 11), \"scores\": gscv_fitted.cv_results_['mean_test_score']})"
   ]
  },
  {
   "cell_type": "markdown",
   "id": "24a5eaec",
   "metadata": {},
   "source": [
    "In looking at the house size variable, we see that the model with 3 degrees performed the best as it had the highest R-squared value. In looking at the number of bedrooms, we see that the model with 3 degrees performed the best. The problem with testing all possible models is that it may lead to overfitting the training data. Instead, one may consider lower degrees as it will stray away from the idea of overfitting the data. "
   ]
  }
 ],
 "metadata": {
  "kernelspec": {
   "display_name": "Python 3 (ipykernel)",
   "language": "python",
   "name": "python3"
  },
  "language_info": {
   "codemirror_mode": {
    "name": "ipython",
    "version": 3
   },
   "file_extension": ".py",
   "mimetype": "text/x-python",
   "name": "python",
   "nbconvert_exporter": "python",
   "pygments_lexer": "ipython3",
   "version": "3.11.4"
  }
 },
 "nbformat": 4,
 "nbformat_minor": 5
}
